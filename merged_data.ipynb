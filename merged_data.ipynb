{
 "cells": [
  {
   "cell_type": "markdown",
   "metadata": {},
   "source": [
    "# Data Preparation"
   ]
  },
  {
   "cell_type": "code",
   "execution_count": 2,
   "metadata": {},
   "outputs": [],
   "source": [
    "import pandas as pd\n",
    "import numpy as np"
   ]
  },
  {
   "cell_type": "code",
   "execution_count": 3,
   "metadata": {},
   "outputs": [
    {
     "data": {
      "text/html": [
       "<div>\n",
       "<style scoped>\n",
       "    .dataframe tbody tr th:only-of-type {\n",
       "        vertical-align: middle;\n",
       "    }\n",
       "\n",
       "    .dataframe tbody tr th {\n",
       "        vertical-align: top;\n",
       "    }\n",
       "\n",
       "    .dataframe thead th {\n",
       "        text-align: right;\n",
       "    }\n",
       "</style>\n",
       "<table border=\"1\" class=\"dataframe\">\n",
       "  <thead>\n",
       "    <tr style=\"text-align: right;\">\n",
       "      <th></th>\n",
       "      <th>id</th>\n",
       "      <th>news_url</th>\n",
       "      <th>title</th>\n",
       "      <th>tweet_ids</th>\n",
       "      <th>misinformation_type</th>\n",
       "      <th>label</th>\n",
       "    </tr>\n",
       "  </thead>\n",
       "  <tbody>\n",
       "    <tr>\n",
       "      <th>0</th>\n",
       "      <td>gossipcop-2493749932</td>\n",
       "      <td>www.dailymail.co.uk/tvshowbiz/article-5874213/...</td>\n",
       "      <td>Did Miley Cyrus and Liam Hemsworth secretly ge...</td>\n",
       "      <td>284329075902926848\\t284332744559968256\\t284335...</td>\n",
       "      <td>gossipcop</td>\n",
       "      <td>fake</td>\n",
       "    </tr>\n",
       "    <tr>\n",
       "      <th>1</th>\n",
       "      <td>gossipcop-4580247171</td>\n",
       "      <td>hollywoodlife.com/2018/05/05/paris-jackson-car...</td>\n",
       "      <td>Paris Jackson &amp; Cara Delevingne Enjoy Night Ou...</td>\n",
       "      <td>992895508267130880\\t992897935418503169\\t992899...</td>\n",
       "      <td>gossipcop</td>\n",
       "      <td>fake</td>\n",
       "    </tr>\n",
       "    <tr>\n",
       "      <th>2</th>\n",
       "      <td>gossipcop-941805037</td>\n",
       "      <td>variety.com/2017/biz/news/tax-march-donald-tru...</td>\n",
       "      <td>Celebrities Join Tax March in Protest of Donal...</td>\n",
       "      <td>853359353532829696\\t853359576543920128\\t853359...</td>\n",
       "      <td>gossipcop</td>\n",
       "      <td>fake</td>\n",
       "    </tr>\n",
       "    <tr>\n",
       "      <th>3</th>\n",
       "      <td>gossipcop-2547891536</td>\n",
       "      <td>www.dailymail.co.uk/femail/article-3499192/Do-...</td>\n",
       "      <td>Cindy Crawford's daughter Kaia Gerber wears a ...</td>\n",
       "      <td>988821905196158981\\t988824206556172288\\t988825...</td>\n",
       "      <td>gossipcop</td>\n",
       "      <td>fake</td>\n",
       "    </tr>\n",
       "    <tr>\n",
       "      <th>4</th>\n",
       "      <td>gossipcop-5476631226</td>\n",
       "      <td>variety.com/2018/film/news/list-2018-oscar-nom...</td>\n",
       "      <td>Full List of 2018 Oscar Nominations – Variety</td>\n",
       "      <td>955792793632432131\\t955795063925301249\\t955798...</td>\n",
       "      <td>gossipcop</td>\n",
       "      <td>fake</td>\n",
       "    </tr>\n",
       "  </tbody>\n",
       "</table>\n",
       "</div>"
      ],
      "text/plain": [
       "                     id                                           news_url  \\\n",
       "0  gossipcop-2493749932  www.dailymail.co.uk/tvshowbiz/article-5874213/...   \n",
       "1  gossipcop-4580247171  hollywoodlife.com/2018/05/05/paris-jackson-car...   \n",
       "2   gossipcop-941805037  variety.com/2017/biz/news/tax-march-donald-tru...   \n",
       "3  gossipcop-2547891536  www.dailymail.co.uk/femail/article-3499192/Do-...   \n",
       "4  gossipcop-5476631226  variety.com/2018/film/news/list-2018-oscar-nom...   \n",
       "\n",
       "                                               title  \\\n",
       "0  Did Miley Cyrus and Liam Hemsworth secretly ge...   \n",
       "1  Paris Jackson & Cara Delevingne Enjoy Night Ou...   \n",
       "2  Celebrities Join Tax March in Protest of Donal...   \n",
       "3  Cindy Crawford's daughter Kaia Gerber wears a ...   \n",
       "4      Full List of 2018 Oscar Nominations – Variety   \n",
       "\n",
       "                                           tweet_ids misinformation_type label  \n",
       "0  284329075902926848\\t284332744559968256\\t284335...           gossipcop  fake  \n",
       "1  992895508267130880\\t992897935418503169\\t992899...           gossipcop  fake  \n",
       "2  853359353532829696\\t853359576543920128\\t853359...           gossipcop  fake  \n",
       "3  988821905196158981\\t988824206556172288\\t988825...           gossipcop  fake  \n",
       "4  955792793632432131\\t955795063925301249\\t955798...           gossipcop  fake  "
      ]
     },
     "execution_count": 3,
     "metadata": {},
     "output_type": "execute_result"
    }
   ],
   "source": [
    "misinfo_data = pd.read_csv(\"misinfo_dataset.csv\")\n",
    "misinfo_data.head()"
   ]
  },
  {
   "cell_type": "code",
   "execution_count": 4,
   "metadata": {},
   "outputs": [
    {
     "data": {
      "text/plain": [
       "(23196, 6)"
      ]
     },
     "execution_count": 4,
     "metadata": {},
     "output_type": "execute_result"
    }
   ],
   "source": [
    "misinfo_data.shape"
   ]
  },
  {
   "cell_type": "code",
   "execution_count": 5,
   "metadata": {},
   "outputs": [
    {
     "data": {
      "text/plain": [
       "id                        0\n",
       "news_url                330\n",
       "title                     0\n",
       "tweet_ids              1501\n",
       "misinformation_type       0\n",
       "label                     0\n",
       "dtype: int64"
      ]
     },
     "execution_count": 5,
     "metadata": {},
     "output_type": "execute_result"
    }
   ],
   "source": [
    "misinfo_data.isnull().sum()"
   ]
  },
  {
   "cell_type": "markdown",
   "metadata": {},
   "source": [
    "Merge the dataset"
   ]
  },
  {
   "cell_type": "code",
   "execution_count": 6,
   "metadata": {},
   "outputs": [
    {
     "name": "stdout",
     "output_type": "stream",
     "text": [
      "                                       image_path label                id  \\\n",
      "0  compressed_deepfakes/train/Real/real_10042.jpg  real  gossipcop-882573   \n",
      "1  compressed_deepfakes/train/Real/real_10042.jpg  real  gossipcop-875924   \n",
      "2  compressed_deepfakes/train/Real/real_10042.jpg  real  gossipcop-894416   \n",
      "3  compressed_deepfakes/train/Real/real_10042.jpg  real  gossipcop-857248   \n",
      "4  compressed_deepfakes/train/Real/real_10042.jpg  real  gossipcop-884684   \n",
      "\n",
      "                                            news_url  \\\n",
      "0  https://www.brides.com/story/teen-mom-jenelle-...   \n",
      "1  https://www.dailymail.co.uk/tvshowbiz/article-...   \n",
      "2        https://en.wikipedia.org/wiki/Quinn_Perkins   \n",
      "3  https://www.refinery29.com/en-us/2018/03/19192...   \n",
      "4  https://www.cnn.com/2017/10/04/entertainment/c...   \n",
      "\n",
      "                                               title  \\\n",
      "0  Teen Mom Star Jenelle Evans' Wedding Dress Is ...   \n",
      "1  Kylie Jenner refusing to discuss Tyga on Life ...   \n",
      "2                                      Quinn Perkins   \n",
      "3  I Tried Kim Kardashian's Butt Workout & Am For...   \n",
      "4  Celine Dion donates concert proceeds to Vegas ...   \n",
      "\n",
      "                                           tweet_ids misinformation_type  \n",
      "0  912371411146149888\\t912371528343408641\\t912372...           gossipcop  \n",
      "1  901989917546426369\\t901989992074969089\\t901990...           gossipcop  \n",
      "2  931263637246881792\\t931265332022579201\\t931265...           gossipcop  \n",
      "3  868114761723936769\\t868122567910936576\\t868128...           gossipcop  \n",
      "4  915528047004209152\\t915529285171122176\\t915530...           gossipcop  \n"
     ]
    }
   ],
   "source": [
    "import os\n",
    "\n",
    "# Define the image folder path\n",
    "image_folder = \"compressed_deepfakes\"  # Change this to your actual folder path\n",
    "\n",
    "# Define dataset splits\n",
    "splits = [\"train\",\"test\", \"validation\"]\n",
    "\n",
    "# Create a list to store image paths and labels\n",
    "image_data = []\n",
    "\n",
    "# Loop through each dataset split\n",
    "for split in splits:\n",
    "    for label in [\"Real\", \"Fake\"]:  # Assuming folders are named \"Real\" and \"Fake\"\n",
    "        folder_path = os.path.join(image_folder, split, label)\n",
    "        if os.path.exists(folder_path):  # Ensure folder exists\n",
    "            for filename in os.listdir(folder_path):\n",
    "                image_path = os.path.join(folder_path, filename)\n",
    "                image_data.append({\"image_path\": image_path, \"label\": label.lower()})  # Convert to lowercase for consistency\n",
    "\n",
    "# Convert the list into a DataFrame\n",
    "image_df = pd.DataFrame(image_data)\n",
    "\n",
    "# Load the CSV file\n",
    "#csv_file = \"misinfo_dataset.csv\"  # Change this to your actual CSV file\n",
    "csv_df = pd.read_csv(\"misinfo_dataset.csv\")\n",
    "\n",
    "# Ensure the label column is lowercase for consistency\n",
    "csv_df[\"label\"] = csv_df[\"label\"].str.lower()\n",
    "\n",
    "# Merge on the label column\n",
    "merged_df = pd.merge(image_df, csv_df, on=\"label\", how=\"inner\")\n",
    "\n",
    "# Save the merged dataset\n",
    "#merged_df.to_csv(\"merged_dataset.csv\", index=False)\n",
    "\n",
    "# Display the first few rows\n",
    "print(merged_df.head())"
   ]
  },
  {
   "cell_type": "code",
   "execution_count": 7,
   "metadata": {},
   "outputs": [
    {
     "data": {
      "text/plain": [
       "(25515600, 7)"
      ]
     },
     "execution_count": 7,
     "metadata": {},
     "output_type": "execute_result"
    }
   ],
   "source": [
    "merged_df.shape"
   ]
  },
  {
   "cell_type": "markdown",
   "metadata": {},
   "source": [
    "Data Downsampling"
   ]
  },
  {
   "cell_type": "code",
   "execution_count": 43,
   "metadata": {},
   "outputs": [
    {
     "name": "stdout",
     "output_type": "stream",
     "text": [
      "Original dataset size: 25515600\n",
      "Reduced dataset size: 510312\n"
     ]
    }
   ],
   "source": [
    "import pandas as pd\n",
    "from sklearn.model_selection import train_test_split\n",
    "\n",
    "\n",
    "# Set the sample size (e.g., 10% of original dataset)\n",
    "sample_size = int(0.02 * len(merged_df))  # Adjust this fraction as needed\n",
    "\n",
    "# Perform stratified sampling based on 'misinformation_type'\n",
    "df_sampled, _ = train_test_split(merged_df, train_size=sample_size, stratify=merged_df['misinformation_type'], random_state=42)\n",
    "\n",
    "# Save the reduced dataset\n",
    "#df_sampled.to_csv(\"downsampled_dataset.csv\", index=False)\n",
    "\n",
    "print(f\"Original dataset size: {len(merged_df)}\")\n",
    "print(f\"Reduced dataset size: {len(df_sampled)}\")\n"
   ]
  },
  {
   "cell_type": "code",
   "execution_count": 9,
   "metadata": {},
   "outputs": [
    {
     "data": {
      "text/html": [
       "<div>\n",
       "<style scoped>\n",
       "    .dataframe tbody tr th:only-of-type {\n",
       "        vertical-align: middle;\n",
       "    }\n",
       "\n",
       "    .dataframe tbody tr th {\n",
       "        vertical-align: top;\n",
       "    }\n",
       "\n",
       "    .dataframe thead th {\n",
       "        text-align: right;\n",
       "    }\n",
       "</style>\n",
       "<table border=\"1\" class=\"dataframe\">\n",
       "  <thead>\n",
       "    <tr style=\"text-align: right;\">\n",
       "      <th></th>\n",
       "      <th>image_path</th>\n",
       "      <th>label</th>\n",
       "      <th>id</th>\n",
       "      <th>news_url</th>\n",
       "      <th>title</th>\n",
       "      <th>tweet_ids</th>\n",
       "      <th>misinformation_type</th>\n",
       "    </tr>\n",
       "  </thead>\n",
       "  <tbody>\n",
       "    <tr>\n",
       "      <th>3201869</th>\n",
       "      <td>compressed_deepfakes/train/Real/real_10340.jpg</td>\n",
       "      <td>real</td>\n",
       "      <td>gossipcop-903816</td>\n",
       "      <td>https://www.dailymail.co.uk/femail/article-527...</td>\n",
       "      <td>Timberland boots becoming trendy with Gigi Had...</td>\n",
       "      <td>949060933997023232\\t949061822312845312\\t949061...</td>\n",
       "      <td>gossipcop</td>\n",
       "    </tr>\n",
       "    <tr>\n",
       "      <th>8662448</th>\n",
       "      <td>compressed_deepfakes/train/Real/real_10259.jpg</td>\n",
       "      <td>real</td>\n",
       "      <td>gossipcop-922827</td>\n",
       "      <td>https://www.floor8.com/posts/8562-fans-accuse-...</td>\n",
       "      <td>Fans Accuse Jay-Z and Beyoncé of Copying Kim K...</td>\n",
       "      <td>977459151281557504</td>\n",
       "      <td>gossipcop</td>\n",
       "    </tr>\n",
       "    <tr>\n",
       "      <th>6253700</th>\n",
       "      <td>compressed_deepfakes/train/Real/real_10359.jpg</td>\n",
       "      <td>real</td>\n",
       "      <td>gossipcop-899993</td>\n",
       "      <td>https://okmagazine.com/photos/wags-la-wags-mia...</td>\n",
       "      <td>'WAGS LA' And 'WAGS Miami' Both Officially Can...</td>\n",
       "      <td>941404950726365184\\t941405189889720320\\t941405...</td>\n",
       "      <td>gossipcop</td>\n",
       "    </tr>\n",
       "    <tr>\n",
       "      <th>9737150</th>\n",
       "      <td>compressed_deepfakes/train/Fake/fake_10425.jpg</td>\n",
       "      <td>fake</td>\n",
       "      <td>gossipcop-3271653405</td>\n",
       "      <td>www.bustle.com/p/who-is-hassan-jameel-rihannas...</td>\n",
       "      <td>Who Is Hassan Jameel? Rihanna's Mystery Man Is...</td>\n",
       "      <td>886023658271014912\\t886023887804387329\\t886025...</td>\n",
       "      <td>gossipcop</td>\n",
       "    </tr>\n",
       "    <tr>\n",
       "      <th>22131755</th>\n",
       "      <td>compressed_deepfakes/validation/Real/real_1070...</td>\n",
       "      <td>real</td>\n",
       "      <td>politifact13833</td>\n",
       "      <td>http://www.taxpolicycenter.org/sites/default/f...</td>\n",
       "      <td>Who Benefits from President Trump’s Child Care...</td>\n",
       "      <td>775842098402566144\\t836687647473037316\\t836719...</td>\n",
       "      <td>politifact</td>\n",
       "    </tr>\n",
       "  </tbody>\n",
       "</table>\n",
       "</div>"
      ],
      "text/plain": [
       "                                                 image_path label  \\\n",
       "3201869      compressed_deepfakes/train/Real/real_10340.jpg  real   \n",
       "8662448      compressed_deepfakes/train/Real/real_10259.jpg  real   \n",
       "6253700      compressed_deepfakes/train/Real/real_10359.jpg  real   \n",
       "9737150      compressed_deepfakes/train/Fake/fake_10425.jpg  fake   \n",
       "22131755  compressed_deepfakes/validation/Real/real_1070...  real   \n",
       "\n",
       "                            id  \\\n",
       "3201869       gossipcop-903816   \n",
       "8662448       gossipcop-922827   \n",
       "6253700       gossipcop-899993   \n",
       "9737150   gossipcop-3271653405   \n",
       "22131755       politifact13833   \n",
       "\n",
       "                                                   news_url  \\\n",
       "3201869   https://www.dailymail.co.uk/femail/article-527...   \n",
       "8662448   https://www.floor8.com/posts/8562-fans-accuse-...   \n",
       "6253700   https://okmagazine.com/photos/wags-la-wags-mia...   \n",
       "9737150   www.bustle.com/p/who-is-hassan-jameel-rihannas...   \n",
       "22131755  http://www.taxpolicycenter.org/sites/default/f...   \n",
       "\n",
       "                                                      title  \\\n",
       "3201869   Timberland boots becoming trendy with Gigi Had...   \n",
       "8662448   Fans Accuse Jay-Z and Beyoncé of Copying Kim K...   \n",
       "6253700   'WAGS LA' And 'WAGS Miami' Both Officially Can...   \n",
       "9737150   Who Is Hassan Jameel? Rihanna's Mystery Man Is...   \n",
       "22131755  Who Benefits from President Trump’s Child Care...   \n",
       "\n",
       "                                                  tweet_ids  \\\n",
       "3201869   949060933997023232\\t949061822312845312\\t949061...   \n",
       "8662448                                  977459151281557504   \n",
       "6253700   941404950726365184\\t941405189889720320\\t941405...   \n",
       "9737150   886023658271014912\\t886023887804387329\\t886025...   \n",
       "22131755  775842098402566144\\t836687647473037316\\t836719...   \n",
       "\n",
       "         misinformation_type  \n",
       "3201869            gossipcop  \n",
       "8662448            gossipcop  \n",
       "6253700            gossipcop  \n",
       "9737150            gossipcop  \n",
       "22131755          politifact  "
      ]
     },
     "execution_count": 9,
     "metadata": {},
     "output_type": "execute_result"
    }
   ],
   "source": [
    "df_sampled.head()"
   ]
  },
  {
   "cell_type": "markdown",
   "metadata": {},
   "source": [
    "Clean the Dataset"
   ]
  },
  {
   "cell_type": "code",
   "execution_count": 10,
   "metadata": {},
   "outputs": [
    {
     "data": {
      "text/plain": [
       "image_path                 0\n",
       "label                      0\n",
       "id                         0\n",
       "news_url                7229\n",
       "title                      0\n",
       "tweet_ids              32924\n",
       "misinformation_type        0\n",
       "dtype: int64"
      ]
     },
     "execution_count": 10,
     "metadata": {},
     "output_type": "execute_result"
    }
   ],
   "source": [
    "df_sampled.isnull().sum()"
   ]
  },
  {
   "cell_type": "code",
   "execution_count": 11,
   "metadata": {},
   "outputs": [],
   "source": [
    "# drop rows with missing values\n",
    "df_sampled.dropna(inplace=True)"
   ]
  },
  {
   "cell_type": "code",
   "execution_count": 12,
   "metadata": {},
   "outputs": [
    {
     "data": {
      "text/plain": [
       "image_path             0\n",
       "label                  0\n",
       "id                     0\n",
       "news_url               0\n",
       "title                  0\n",
       "tweet_ids              0\n",
       "misinformation_type    0\n",
       "dtype: int64"
      ]
     },
     "execution_count": 12,
     "metadata": {},
     "output_type": "execute_result"
    }
   ],
   "source": [
    "df_sampled.isnull().sum()"
   ]
  },
  {
   "cell_type": "code",
   "execution_count": 13,
   "metadata": {},
   "outputs": [
    {
     "data": {
      "text/plain": [
       "(471042, 7)"
      ]
     },
     "execution_count": 13,
     "metadata": {},
     "output_type": "execute_result"
    }
   ],
   "source": [
    "df_sampled.shape"
   ]
  },
  {
   "cell_type": "markdown",
   "metadata": {},
   "source": [
    "# EDA\n",
    "## Root Cause Analysis for Misinformation\n",
    "\n",
    "Root Cause Analysis (RCA) helps identify why misinformation is created. Here’s how you can approach it:\n",
    "\n",
    "**Step 1: Categorize Misinformation**\n",
    "- Your dataset already has a 'misinformation_type' column.\n",
    "\n",
    "- Count occurrences of each type:\n"
   ]
  },
  {
   "cell_type": "code",
   "execution_count": 14,
   "metadata": {},
   "outputs": [
    {
     "data": {
      "text/plain": [
       "misinformation_type\n",
       "gossipcop     454400\n",
       "politifact     16642\n",
       "Name: count, dtype: int64"
      ]
     },
     "execution_count": 14,
     "metadata": {},
     "output_type": "execute_result"
    }
   ],
   "source": [
    "df_sampled['misinformation_type'].value_counts()\n"
   ]
  },
  {
   "cell_type": "markdown",
   "metadata": {},
   "source": [
    "The most common misinformation type is gossipcop with 454,400 rows."
   ]
  },
  {
   "cell_type": "markdown",
   "metadata": {},
   "source": [
    "**Step 2: Analyze the Sources of Misinformation**\n",
    "- Check which fake news URLs appear most often and how many times it appears:"
   ]
  },
  {
   "cell_type": "code",
   "execution_count": 15,
   "metadata": {},
   "outputs": [
    {
     "name": "stdout",
     "output_type": "stream",
     "text": [
      "news_url\n",
      "www.newidea.com.au/jennifer-aniston-and-brad-pitt-busted-in-aspen                                                150\n",
      "www.etonline.com/gwen-stefani-still-smitten-blake-shelton-and-has-never-once-tried-change-him-exclusive-94631    134\n",
      "www.intouchweekly.com/posts/alex-rodriguez-cheated-on-jennifer-lopez-153623                                      128\n",
      "hollywoodlife.com/2018/02/12/jamie-foxx-katie-holmes-baby-pregnant-want-to-start-family/                         122\n",
      "www.etonline.com/biggest-celebrity-feuds-2017-92730                                                              122\n",
      "en.wikipedia.org/wiki/Julia_Roberts                                                                              121\n",
      "www.thecut.com/2018/08/brad-pitt-angelina-jolie-divorce-latest-news.html                                         117\n",
      "hollywoodlife.com/2018/06/06/are-robert-pattinson-kristen-stewart-back-together/                                 113\n",
      "www.newidea.com.au/meghan-markle-prince-harry-twins-confirmed                                                    109\n",
      "hollywoodlife.com/2018/08/08/kourtney-kardashian-pregnant-fourth-baby-younes-bendjima-dad-breakup/               109\n",
      "Name: count, dtype: int64\n"
     ]
    }
   ],
   "source": [
    "# Filter rows where the 'label' column indicates \"fake\"\n",
    "fake_news_df = df_sampled[df_sampled['label'] == 'fake']\n",
    "\n",
    "# Count the frequency of each unique URL\n",
    "fake_news_counts = fake_news_df['news_url'].value_counts().head(10)\n",
    "\n",
    "# Filter the URLs with value counts greater than 1 (or whatever threshold you want)\n",
    "fake_news_with_high_count = fake_news_counts[fake_news_counts > 1]\n",
    "\n",
    "# Display the fake news URLs with high counts\n",
    "print(fake_news_with_high_count)\n",
    "\n"
   ]
  },
  {
   "cell_type": "markdown",
   "metadata": {},
   "source": [
    "All of these website pages are about celebrity gossip "
   ]
  },
  {
   "cell_type": "markdown",
   "metadata": {},
   "source": [
    "**Step 3: Keyword Analysis in Titles**\n",
    "\n",
    "- Extract the most frequent words in misinformation titles.\n",
    "- Removes stopwords using nltk.stopwords.words('english').\n",
    "- Removes additional common words that might not add value.\n",
    "- Finds the most frequent words while filtering out stopwords.\n"
   ]
  },
  {
   "cell_type": "code",
   "execution_count": 16,
   "metadata": {},
   "outputs": [
    {
     "name": "stderr",
     "output_type": "stream",
     "text": [
      "[nltk_data] Downloading package stopwords to /Users/user/nltk_data...\n",
      "[nltk_data]   Package stopwords is already up-to-date!\n"
     ]
    },
    {
     "name": "stdout",
     "output_type": "stream",
     "text": [
      "                                                      title  \\\n",
      "3201869   Timberland boots becoming trendy with Gigi Had...   \n",
      "8662448   Fans Accuse Jay-Z and Beyoncé of Copying Kim K...   \n",
      "6253700   'WAGS LA' And 'WAGS Miami' Both Officially Can...   \n",
      "9737150   Who Is Hassan Jameel? Rihanna's Mystery Man Is...   \n",
      "22131755  Who Benefits from President Trump’s Child Care...   \n",
      "\n",
      "                       frequent_words  \n",
      "3201869   timberland, boots, becoming  \n",
      "8662448             fans, accuse, jay  \n",
      "6253700               wags, la, miami  \n",
      "9737150       mystery, hassan, jameel  \n",
      "22131755   benefits, president, trump  \n"
     ]
    }
   ],
   "source": [
    "from collections import Counter\n",
    "import re\n",
    "import nltk\n",
    "from nltk.corpus import stopwords\n",
    "\n",
    "# Download stopwords if not already available\n",
    "nltk.download('stopwords')\n",
    "\n",
    "# Load English stopwords\n",
    "stop_words = set(stopwords.words('english'))\n",
    "\n",
    "# Define additional common words to remove (optional)\n",
    "common_words = {\"news\", \"video\", \"report\", \"click\", \"link\", \"new\", \"breaking\"}\n",
    "\n",
    "# Function to extract most frequent words from a title\n",
    "def extract_frequent_words(title, top_n=3):\n",
    "    if pd.isna(title):\n",
    "        return \"\"\n",
    "    \n",
    "    words = re.findall(r'\\b\\w+\\b', title.lower())  # Tokenize words\n",
    "    filtered_words = [word for word in words if word not in stop_words and word not in common_words]  # Remove stopwords\n",
    "    word_counts = Counter(filtered_words)  # Count word frequencies\n",
    "    most_common_words = [word for word, _ in word_counts.most_common(top_n)]  # Get top N frequent words\n",
    "    \n",
    "    return ', '.join(most_common_words)  # Convert list to a string\n",
    "\n",
    "# Apply function to each row and create a new column\n",
    "df_sampled['frequent_words'] = df_sampled['title'].apply(extract_frequent_words)\n",
    "\n",
    "# Display the first few rows\n",
    "print(df_sampled[['title', 'frequent_words']].head())\n"
   ]
  },
  {
   "cell_type": "markdown",
   "metadata": {},
   "source": [
    "**Step 4: Compare Fake vs. Real News Patterns**\n",
    "\n",
    "- Analyze differences in word usage between real and fake news:"
   ]
  },
  {
   "cell_type": "code",
   "execution_count": 17,
   "metadata": {},
   "outputs": [
    {
     "name": "stdout",
     "output_type": "stream",
     "text": [
      "Top Fake News Words: [('jennifer', 6884), ('kardashian', 6465), ('brad', 5542), ('jenner', 5315), ('pitt', 4559), ('kim', 4437), ('justin', 4079), ('angelina', 3881), ('selena', 3617), ('jolie', 3013), ('aniston', 2980), ('meghan', 2936), ('gomez', 2678), ('kylie', 2359), ('blake', 2347), ('trump', 2140), ('gwen', 2105), ('kanye', 2017), ('bieber', 1971), ('markle', 1878)]\n",
      "Top Real News Words: [('kardashian', 9277), ('kim', 6081), ('says', 5689), ('prince', 5545), ('star', 5470), ('reveals', 5189), ('2018', 5145), ('jenner', 4873), ('meghan', 4863), ('season', 4815), ('jennifer', 4717), ('watch', 4466), ('kate', 4278), ('best', 3853), ('taylor', 3846), ('bachelor', 3417), ('harry', 3388), ('selena', 3359), ('shares', 3230), ('swift', 3220)]\n"
     ]
    }
   ],
   "source": [
    "fake_titles = df_sampled[df_sampled['label'] == 'fake']['frequent_words'].dropna()\n",
    "real_titles = df_sampled[df_sampled['label'] == 'real']['frequent_words'].dropna()\n",
    "\n",
    "fake_words = ' '.join(fake_titles).lower()\n",
    "real_words = ' '.join(real_titles).lower()\n",
    "\n",
    "fake_word_counts = Counter(re.findall(r'\\b\\w+\\b', fake_words))\n",
    "real_word_counts = Counter(re.findall(r'\\b\\w+\\b', real_words))\n",
    "\n",
    "print(\"Top Fake News Words:\", fake_word_counts.most_common(20))\n",
    "print(\"Top Real News Words:\", real_word_counts.most_common(20))\n"
   ]
  },
  {
   "cell_type": "markdown",
   "metadata": {},
   "source": [
    "Step 5: Get the financial value of the fake news using the urls"
   ]
  },
  {
   "cell_type": "markdown",
   "metadata": {},
   "source": [
    "get the domain name of each unique url"
   ]
  },
  {
   "cell_type": "code",
   "execution_count": 18,
   "metadata": {},
   "outputs": [
    {
     "data": {
      "text/plain": [
       "news_url\n",
       "www.newidea.com.au/jennifer-aniston-and-brad-pitt-busted-in-aspen                                                150\n",
       "www.etonline.com/gwen-stefani-still-smitten-blake-shelton-and-has-never-once-tried-change-him-exclusive-94631    134\n",
       "www.intouchweekly.com/posts/alex-rodriguez-cheated-on-jennifer-lopez-153623                                      128\n",
       "hollywoodlife.com/2018/02/12/jamie-foxx-katie-holmes-baby-pregnant-want-to-start-family/                         122\n",
       "www.etonline.com/biggest-celebrity-feuds-2017-92730                                                              122\n",
       "en.wikipedia.org/wiki/Julia_Roberts                                                                              121\n",
       "www.thecut.com/2018/08/brad-pitt-angelina-jolie-divorce-latest-news.html                                         117\n",
       "hollywoodlife.com/2018/06/06/are-robert-pattinson-kristen-stewart-back-together/                                 113\n",
       "www.newidea.com.au/meghan-markle-prince-harry-twins-confirmed                                                    109\n",
       "hollywoodlife.com/2018/08/08/kourtney-kardashian-pregnant-fourth-baby-younes-bendjima-dad-breakup/               109\n",
       "Name: count, dtype: int64"
      ]
     },
     "execution_count": 18,
     "metadata": {},
     "output_type": "execute_result"
    }
   ],
   "source": [
    "fake_news_with_high_count"
   ]
  },
  {
   "cell_type": "code",
   "execution_count": 19,
   "metadata": {},
   "outputs": [
    {
     "name": "stdout",
     "output_type": "stream",
     "text": [
      "                                                urls                 domain\n",
      "0  https://www.newidea.com.au/jennifer-aniston-an...     www.newidea.com.au\n",
      "1  https://www.etonline.com/gwen-stefani-still-sm...       www.etonline.com\n",
      "2  https://www.intouchweekly.com/posts/alex-rodri...  www.intouchweekly.com\n",
      "3  https://hollywoodlife.com/2018/02/12/jamie-fox...      hollywoodlife.com\n",
      "4  https://www.etonline.com/biggest-celebrity-feu...       www.etonline.com\n",
      "5        https://en.wikipedia.org/wiki/Julia_Roberts       en.wikipedia.org\n",
      "6  https://www.thecut.com/2018/08/brad-pitt-angel...         www.thecut.com\n",
      "7  https://hollywoodlife.com/2018/06/06/are-rober...      hollywoodlife.com\n",
      "8  https://www.newidea.com.au/meghan-markle-princ...     www.newidea.com.au\n",
      "9  https://hollywoodlife.com/2018/08/08/kourtney-...      hollywoodlife.com\n"
     ]
    }
   ],
   "source": [
    "import pandas as pd\n",
    "from urllib.parse import urlparse\n",
    "\n",
    "# Sample data: Creating a DataFrame with a column containing URLs\n",
    "data = {\n",
    "    'urls': [\n",
    "        \"https://www.newidea.com.au/jennifer-aniston-and-brad-pitt-busted-in-aspen\",\n",
    "        \"https://www.etonline.com/gwen-stefani-still-smitten-blake-shelton-and-has-never-once-tried-change-him-exclusive-94631\",\n",
    "        \"https://www.intouchweekly.com/posts/alex-rodriguez-cheated-on-jennifer-lopez-153623\",\n",
    "        \"https://hollywoodlife.com/2018/02/12/jamie-foxx-katie-holmes-baby-pregnant-want-to-start-family/\",\n",
    "        \"https://www.etonline.com/biggest-celebrity-feuds-2017-92730\",\n",
    "        \"https://en.wikipedia.org/wiki/Julia_Roberts\",\n",
    "        \"https://www.thecut.com/2018/08/brad-pitt-angelina-jolie-divorce-latest-news.html\",\n",
    "        \"https://hollywoodlife.com/2018/06/06/are-robert-pattinson-kristen-stewart-back-together/\",\n",
    "        \"https://www.newidea.com.au/meghan-markle-prince-harry-twins-confirmed\",\n",
    "        \"https://hollywoodlife.com/2018/08/08/kourtney-kardashian-pregnant-fourth-baby-younes-bendjima-dad-breakup/\"\n",
    "    ]\n",
    "}\n",
    "\n",
    "# Create a DataFrame\n",
    "domain_df = pd.DataFrame(data)\n",
    "\n",
    "# Function to extract domain name from URL\n",
    "def get_domain_name(url):\n",
    "    parsed_url = urlparse(url)\n",
    "    return parsed_url.netloc\n",
    "\n",
    "# Apply the function to the 'urls' column and create a new 'domain' column\n",
    "domain_df['domain'] = domain_df['urls'].apply(get_domain_name)\n",
    "\n",
    "# Display the DataFrame with the domain names\n",
    "print(domain_df)\n",
    "\n"
   ]
  },
  {
   "cell_type": "code",
   "execution_count": 20,
   "metadata": {},
   "outputs": [
    {
     "data": {
      "text/plain": [
       "array(['www.newidea.com.au', 'www.etonline.com', 'www.intouchweekly.com',\n",
       "       'hollywoodlife.com', 'en.wikipedia.org', 'www.thecut.com'],\n",
       "      dtype=object)"
      ]
     },
     "execution_count": 20,
     "metadata": {},
     "output_type": "execute_result"
    }
   ],
   "source": [
    "domain_df['domain'].unique()"
   ]
  }
 ],
 "metadata": {
  "kernelspec": {
   "display_name": "3.11.10",
   "language": "python",
   "name": "python3"
  },
  "language_info": {
   "codemirror_mode": {
    "name": "ipython",
    "version": 3
   },
   "file_extension": ".py",
   "mimetype": "text/x-python",
   "name": "python",
   "nbconvert_exporter": "python",
   "pygments_lexer": "ipython3",
   "version": "3.11.10"
  }
 },
 "nbformat": 4,
 "nbformat_minor": 2
}
