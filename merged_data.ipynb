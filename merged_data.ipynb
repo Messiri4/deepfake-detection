{
 "cells": [
  {
   "cell_type": "markdown",
   "metadata": {},
   "source": [
    "# Data Preparation"
   ]
  },
  {
   "cell_type": "code",
   "execution_count": 1,
   "metadata": {},
   "outputs": [],
   "source": [
    "import pandas as pd\n",
    "import numpy as np"
   ]
  },
  {
   "cell_type": "code",
   "execution_count": 2,
   "metadata": {},
   "outputs": [
    {
     "data": {
      "text/html": [
       "<div>\n",
       "<style scoped>\n",
       "    .dataframe tbody tr th:only-of-type {\n",
       "        vertical-align: middle;\n",
       "    }\n",
       "\n",
       "    .dataframe tbody tr th {\n",
       "        vertical-align: top;\n",
       "    }\n",
       "\n",
       "    .dataframe thead th {\n",
       "        text-align: right;\n",
       "    }\n",
       "</style>\n",
       "<table border=\"1\" class=\"dataframe\">\n",
       "  <thead>\n",
       "    <tr style=\"text-align: right;\">\n",
       "      <th></th>\n",
       "      <th>id</th>\n",
       "      <th>news_url</th>\n",
       "      <th>title</th>\n",
       "      <th>tweet_ids</th>\n",
       "      <th>misinformation_type</th>\n",
       "      <th>label</th>\n",
       "    </tr>\n",
       "  </thead>\n",
       "  <tbody>\n",
       "    <tr>\n",
       "      <th>0</th>\n",
       "      <td>gossipcop-2493749932</td>\n",
       "      <td>www.dailymail.co.uk/tvshowbiz/article-5874213/...</td>\n",
       "      <td>Did Miley Cyrus and Liam Hemsworth secretly ge...</td>\n",
       "      <td>284329075902926848\\t284332744559968256\\t284335...</td>\n",
       "      <td>gossipcop</td>\n",
       "      <td>fake</td>\n",
       "    </tr>\n",
       "    <tr>\n",
       "      <th>1</th>\n",
       "      <td>gossipcop-4580247171</td>\n",
       "      <td>hollywoodlife.com/2018/05/05/paris-jackson-car...</td>\n",
       "      <td>Paris Jackson &amp; Cara Delevingne Enjoy Night Ou...</td>\n",
       "      <td>992895508267130880\\t992897935418503169\\t992899...</td>\n",
       "      <td>gossipcop</td>\n",
       "      <td>fake</td>\n",
       "    </tr>\n",
       "    <tr>\n",
       "      <th>2</th>\n",
       "      <td>gossipcop-941805037</td>\n",
       "      <td>variety.com/2017/biz/news/tax-march-donald-tru...</td>\n",
       "      <td>Celebrities Join Tax March in Protest of Donal...</td>\n",
       "      <td>853359353532829696\\t853359576543920128\\t853359...</td>\n",
       "      <td>gossipcop</td>\n",
       "      <td>fake</td>\n",
       "    </tr>\n",
       "    <tr>\n",
       "      <th>3</th>\n",
       "      <td>gossipcop-2547891536</td>\n",
       "      <td>www.dailymail.co.uk/femail/article-3499192/Do-...</td>\n",
       "      <td>Cindy Crawford's daughter Kaia Gerber wears a ...</td>\n",
       "      <td>988821905196158981\\t988824206556172288\\t988825...</td>\n",
       "      <td>gossipcop</td>\n",
       "      <td>fake</td>\n",
       "    </tr>\n",
       "    <tr>\n",
       "      <th>4</th>\n",
       "      <td>gossipcop-5476631226</td>\n",
       "      <td>variety.com/2018/film/news/list-2018-oscar-nom...</td>\n",
       "      <td>Full List of 2018 Oscar Nominations – Variety</td>\n",
       "      <td>955792793632432131\\t955795063925301249\\t955798...</td>\n",
       "      <td>gossipcop</td>\n",
       "      <td>fake</td>\n",
       "    </tr>\n",
       "  </tbody>\n",
       "</table>\n",
       "</div>"
      ],
      "text/plain": [
       "                     id                                           news_url  \\\n",
       "0  gossipcop-2493749932  www.dailymail.co.uk/tvshowbiz/article-5874213/...   \n",
       "1  gossipcop-4580247171  hollywoodlife.com/2018/05/05/paris-jackson-car...   \n",
       "2   gossipcop-941805037  variety.com/2017/biz/news/tax-march-donald-tru...   \n",
       "3  gossipcop-2547891536  www.dailymail.co.uk/femail/article-3499192/Do-...   \n",
       "4  gossipcop-5476631226  variety.com/2018/film/news/list-2018-oscar-nom...   \n",
       "\n",
       "                                               title  \\\n",
       "0  Did Miley Cyrus and Liam Hemsworth secretly ge...   \n",
       "1  Paris Jackson & Cara Delevingne Enjoy Night Ou...   \n",
       "2  Celebrities Join Tax March in Protest of Donal...   \n",
       "3  Cindy Crawford's daughter Kaia Gerber wears a ...   \n",
       "4      Full List of 2018 Oscar Nominations – Variety   \n",
       "\n",
       "                                           tweet_ids misinformation_type label  \n",
       "0  284329075902926848\\t284332744559968256\\t284335...           gossipcop  fake  \n",
       "1  992895508267130880\\t992897935418503169\\t992899...           gossipcop  fake  \n",
       "2  853359353532829696\\t853359576543920128\\t853359...           gossipcop  fake  \n",
       "3  988821905196158981\\t988824206556172288\\t988825...           gossipcop  fake  \n",
       "4  955792793632432131\\t955795063925301249\\t955798...           gossipcop  fake  "
      ]
     },
     "execution_count": 2,
     "metadata": {},
     "output_type": "execute_result"
    }
   ],
   "source": [
    "misinfo_data = pd.read_csv(\"misinfo_dataset.csv\")\n",
    "misinfo_data.head()"
   ]
  },
  {
   "cell_type": "code",
   "execution_count": 3,
   "metadata": {},
   "outputs": [
    {
     "data": {
      "text/plain": [
       "(23196, 6)"
      ]
     },
     "execution_count": 3,
     "metadata": {},
     "output_type": "execute_result"
    }
   ],
   "source": [
    "misinfo_data.shape"
   ]
  },
  {
   "cell_type": "code",
   "execution_count": 4,
   "metadata": {},
   "outputs": [
    {
     "data": {
      "text/plain": [
       "id                        0\n",
       "news_url                330\n",
       "title                     0\n",
       "tweet_ids              1501\n",
       "misinformation_type       0\n",
       "label                     0\n",
       "dtype: int64"
      ]
     },
     "execution_count": 4,
     "metadata": {},
     "output_type": "execute_result"
    }
   ],
   "source": [
    "misinfo_data.isnull().sum()"
   ]
  },
  {
   "cell_type": "markdown",
   "metadata": {},
   "source": [
    "Merge the dataset"
   ]
  },
  {
   "cell_type": "code",
   "execution_count": 20,
   "metadata": {},
   "outputs": [
    {
     "name": "stdout",
     "output_type": "stream",
     "text": [
      "                                          image_path label                id  \\\n",
      "0  new_datasets/compressed_deepfakes/train/Real/r...  real  gossipcop-882573   \n",
      "1  new_datasets/compressed_deepfakes/train/Real/r...  real  gossipcop-875924   \n",
      "2  new_datasets/compressed_deepfakes/train/Real/r...  real  gossipcop-894416   \n",
      "3  new_datasets/compressed_deepfakes/train/Real/r...  real  gossipcop-857248   \n",
      "4  new_datasets/compressed_deepfakes/train/Real/r...  real  gossipcop-884684   \n",
      "\n",
      "                                            news_url  \\\n",
      "0  https://www.brides.com/story/teen-mom-jenelle-...   \n",
      "1  https://www.dailymail.co.uk/tvshowbiz/article-...   \n",
      "2        https://en.wikipedia.org/wiki/Quinn_Perkins   \n",
      "3  https://www.refinery29.com/en-us/2018/03/19192...   \n",
      "4  https://www.cnn.com/2017/10/04/entertainment/c...   \n",
      "\n",
      "                                               title  \\\n",
      "0  Teen Mom Star Jenelle Evans' Wedding Dress Is ...   \n",
      "1  Kylie Jenner refusing to discuss Tyga on Life ...   \n",
      "2                                      Quinn Perkins   \n",
      "3  I Tried Kim Kardashian's Butt Workout & Am For...   \n",
      "4  Celine Dion donates concert proceeds to Vegas ...   \n",
      "\n",
      "                                           tweet_ids misinformation_type  \n",
      "0  912371411146149888\\t912371528343408641\\t912372...           gossipcop  \n",
      "1  901989917546426369\\t901989992074969089\\t901990...           gossipcop  \n",
      "2  931263637246881792\\t931265332022579201\\t931265...           gossipcop  \n",
      "3  868114761723936769\\t868122567910936576\\t868128...           gossipcop  \n",
      "4  915528047004209152\\t915529285171122176\\t915530...           gossipcop  \n"
     ]
    }
   ],
   "source": [
    "import os\n",
    "\n",
    "# Define the image folder path\n",
    "image_folder = \"new_datasets/compressed_deepfakes\"  # Change this to your actual folder path\n",
    "\n",
    "# Define dataset splits\n",
    "splits = [\"train\",\"test\", \"validation\"]\n",
    "\n",
    "# Create a list to store image paths and labels\n",
    "image_data = []\n",
    "\n",
    "# Loop through each dataset split\n",
    "for split in splits:\n",
    "    for label in [\"Real\", \"Fake\"]:  # Assuming folders are named \"Real\" and \"Fake\"\n",
    "        folder_path = os.path.join(image_folder, split, label)\n",
    "        if os.path.exists(folder_path):  # Ensure folder exists\n",
    "            for filename in os.listdir(folder_path):\n",
    "                image_path = os.path.join(folder_path, filename)\n",
    "                image_data.append({\"image_path\": image_path, \"label\": label.lower()})  # Convert to lowercase for consistency\n",
    "\n",
    "# Convert the list into a DataFrame\n",
    "image_df = pd.DataFrame(image_data)\n",
    "\n",
    "# Load the CSV file\n",
    "#csv_file = \"misinfo_dataset.csv\"  # Change this to your actual CSV file\n",
    "csv_df = pd.read_csv(\"new_datasets/misinfo_dataset.csv\")\n",
    "\n",
    "# Ensure the label column is lowercase for consistency\n",
    "csv_df[\"label\"] = csv_df[\"label\"].str.lower()\n",
    "\n",
    "# Merge on the label column\n",
    "merged_df = pd.merge(image_df, csv_df, on=\"label\", how=\"inner\")\n",
    "\n",
    "# Save the merged dataset\n",
    "merged_df.to_csv(\"merged_dataset.csv\", index=False)\n",
    "\n",
    "# Display the first few rows\n",
    "print(merged_df.head())"
   ]
  },
  {
   "cell_type": "code",
   "execution_count": 21,
   "metadata": {},
   "outputs": [
    {
     "data": {
      "text/plain": [
       "(25515600, 7)"
      ]
     },
     "execution_count": 21,
     "metadata": {},
     "output_type": "execute_result"
    }
   ],
   "source": [
    "merged_df.shape"
   ]
  },
  {
   "cell_type": "code",
   "execution_count": 24,
   "metadata": {},
   "outputs": [
    {
     "data": {
      "text/plain": [
       "Index(['image_path', 'label', 'id', 'news_url', 'title', 'tweet_ids',\n",
       "       'misinformation_type'],\n",
       "      dtype='object')"
      ]
     },
     "execution_count": 24,
     "metadata": {},
     "output_type": "execute_result"
    }
   ],
   "source": [
    "merged_data = pd.read_csv(\"merged_dataset.csv\")\n",
    "merged_data.columns"
   ]
  },
  {
   "cell_type": "markdown",
   "metadata": {},
   "source": [
    "Data Downsampling"
   ]
  },
  {
   "cell_type": "code",
   "execution_count": 25,
   "metadata": {},
   "outputs": [
    {
     "data": {
      "text/plain": [
       "(25515600, 7)"
      ]
     },
     "execution_count": 25,
     "metadata": {},
     "output_type": "execute_result"
    }
   ],
   "source": [
    "merged_data.shape"
   ]
  },
  {
   "cell_type": "code",
   "execution_count": 26,
   "metadata": {},
   "outputs": [
    {
     "name": "stdout",
     "output_type": "stream",
     "text": [
      "Original dataset size: 25515600\n",
      "Reduced dataset size: 510312\n"
     ]
    }
   ],
   "source": [
    "import pandas as pd\n",
    "from sklearn.model_selection import train_test_split\n",
    "\n",
    "\n",
    "# Set the sample size (e.g., 10% of original dataset)\n",
    "sample_size = int(0.02 * len(merged_data))  # Adjust this fraction as needed\n",
    "\n",
    "# Perform stratified sampling based on 'misinformation_type'\n",
    "df_sampled, _ = train_test_split(merged_data, train_size=sample_size, stratify=merged_data['misinformation_type'], random_state=42)\n",
    "\n",
    "# Save the reduced dataset\n",
    "#df_sampled.to_csv(\"downsampled_dataset.csv\", index=False)\n",
    "\n",
    "print(f\"Original dataset size: {len(merged_data)}\")\n",
    "print(f\"Reduced dataset size: {len(df_sampled)}\")\n"
   ]
  },
  {
   "cell_type": "code",
   "execution_count": 27,
   "metadata": {},
   "outputs": [
    {
     "data": {
      "text/html": [
       "<div>\n",
       "<style scoped>\n",
       "    .dataframe tbody tr th:only-of-type {\n",
       "        vertical-align: middle;\n",
       "    }\n",
       "\n",
       "    .dataframe tbody tr th {\n",
       "        vertical-align: top;\n",
       "    }\n",
       "\n",
       "    .dataframe thead th {\n",
       "        text-align: right;\n",
       "    }\n",
       "</style>\n",
       "<table border=\"1\" class=\"dataframe\">\n",
       "  <thead>\n",
       "    <tr style=\"text-align: right;\">\n",
       "      <th></th>\n",
       "      <th>image_path</th>\n",
       "      <th>label</th>\n",
       "      <th>id</th>\n",
       "      <th>news_url</th>\n",
       "      <th>title</th>\n",
       "      <th>tweet_ids</th>\n",
       "      <th>misinformation_type</th>\n",
       "    </tr>\n",
       "  </thead>\n",
       "  <tbody>\n",
       "    <tr>\n",
       "      <th>3201869</th>\n",
       "      <td>new_datasets/compressed_deepfakes/train/Real/r...</td>\n",
       "      <td>real</td>\n",
       "      <td>gossipcop-903816</td>\n",
       "      <td>https://www.dailymail.co.uk/femail/article-527...</td>\n",
       "      <td>Timberland boots becoming trendy with Gigi Had...</td>\n",
       "      <td>949060933997023232\\t949061822312845312\\t949061...</td>\n",
       "      <td>gossipcop</td>\n",
       "    </tr>\n",
       "    <tr>\n",
       "      <th>8662448</th>\n",
       "      <td>new_datasets/compressed_deepfakes/train/Real/r...</td>\n",
       "      <td>real</td>\n",
       "      <td>gossipcop-922827</td>\n",
       "      <td>https://www.floor8.com/posts/8562-fans-accuse-...</td>\n",
       "      <td>Fans Accuse Jay-Z and Beyoncé of Copying Kim K...</td>\n",
       "      <td>977459151281557504</td>\n",
       "      <td>gossipcop</td>\n",
       "    </tr>\n",
       "    <tr>\n",
       "      <th>6253700</th>\n",
       "      <td>new_datasets/compressed_deepfakes/train/Real/r...</td>\n",
       "      <td>real</td>\n",
       "      <td>gossipcop-899993</td>\n",
       "      <td>https://okmagazine.com/photos/wags-la-wags-mia...</td>\n",
       "      <td>'WAGS LA' And 'WAGS Miami' Both Officially Can...</td>\n",
       "      <td>941404950726365184\\t941405189889720320\\t941405...</td>\n",
       "      <td>gossipcop</td>\n",
       "    </tr>\n",
       "    <tr>\n",
       "      <th>9737150</th>\n",
       "      <td>new_datasets/compressed_deepfakes/train/Fake/f...</td>\n",
       "      <td>fake</td>\n",
       "      <td>gossipcop-3271653405</td>\n",
       "      <td>www.bustle.com/p/who-is-hassan-jameel-rihannas...</td>\n",
       "      <td>Who Is Hassan Jameel? Rihanna's Mystery Man Is...</td>\n",
       "      <td>886023658271014912\\t886023887804387329\\t886025...</td>\n",
       "      <td>gossipcop</td>\n",
       "    </tr>\n",
       "    <tr>\n",
       "      <th>22131755</th>\n",
       "      <td>new_datasets/compressed_deepfakes/validation/R...</td>\n",
       "      <td>real</td>\n",
       "      <td>politifact13833</td>\n",
       "      <td>http://www.taxpolicycenter.org/sites/default/f...</td>\n",
       "      <td>Who Benefits from President Trump’s Child Care...</td>\n",
       "      <td>775842098402566144\\t836687647473037316\\t836719...</td>\n",
       "      <td>politifact</td>\n",
       "    </tr>\n",
       "  </tbody>\n",
       "</table>\n",
       "</div>"
      ],
      "text/plain": [
       "                                                 image_path label  \\\n",
       "3201869   new_datasets/compressed_deepfakes/train/Real/r...  real   \n",
       "8662448   new_datasets/compressed_deepfakes/train/Real/r...  real   \n",
       "6253700   new_datasets/compressed_deepfakes/train/Real/r...  real   \n",
       "9737150   new_datasets/compressed_deepfakes/train/Fake/f...  fake   \n",
       "22131755  new_datasets/compressed_deepfakes/validation/R...  real   \n",
       "\n",
       "                            id  \\\n",
       "3201869       gossipcop-903816   \n",
       "8662448       gossipcop-922827   \n",
       "6253700       gossipcop-899993   \n",
       "9737150   gossipcop-3271653405   \n",
       "22131755       politifact13833   \n",
       "\n",
       "                                                   news_url  \\\n",
       "3201869   https://www.dailymail.co.uk/femail/article-527...   \n",
       "8662448   https://www.floor8.com/posts/8562-fans-accuse-...   \n",
       "6253700   https://okmagazine.com/photos/wags-la-wags-mia...   \n",
       "9737150   www.bustle.com/p/who-is-hassan-jameel-rihannas...   \n",
       "22131755  http://www.taxpolicycenter.org/sites/default/f...   \n",
       "\n",
       "                                                      title  \\\n",
       "3201869   Timberland boots becoming trendy with Gigi Had...   \n",
       "8662448   Fans Accuse Jay-Z and Beyoncé of Copying Kim K...   \n",
       "6253700   'WAGS LA' And 'WAGS Miami' Both Officially Can...   \n",
       "9737150   Who Is Hassan Jameel? Rihanna's Mystery Man Is...   \n",
       "22131755  Who Benefits from President Trump’s Child Care...   \n",
       "\n",
       "                                                  tweet_ids  \\\n",
       "3201869   949060933997023232\\t949061822312845312\\t949061...   \n",
       "8662448                                  977459151281557504   \n",
       "6253700   941404950726365184\\t941405189889720320\\t941405...   \n",
       "9737150   886023658271014912\\t886023887804387329\\t886025...   \n",
       "22131755  775842098402566144\\t836687647473037316\\t836719...   \n",
       "\n",
       "         misinformation_type  \n",
       "3201869            gossipcop  \n",
       "8662448            gossipcop  \n",
       "6253700            gossipcop  \n",
       "9737150            gossipcop  \n",
       "22131755          politifact  "
      ]
     },
     "execution_count": 27,
     "metadata": {},
     "output_type": "execute_result"
    }
   ],
   "source": [
    "df_sampled.head()"
   ]
  },
  {
   "cell_type": "markdown",
   "metadata": {},
   "source": [
    "Clean the Dataset"
   ]
  },
  {
   "cell_type": "code",
   "execution_count": 28,
   "metadata": {},
   "outputs": [
    {
     "data": {
      "text/plain": [
       "image_path                 0\n",
       "label                      0\n",
       "id                         0\n",
       "news_url                7229\n",
       "title                      0\n",
       "tweet_ids              32924\n",
       "misinformation_type        0\n",
       "dtype: int64"
      ]
     },
     "execution_count": 28,
     "metadata": {},
     "output_type": "execute_result"
    }
   ],
   "source": [
    "df_sampled.isnull().sum()"
   ]
  },
  {
   "cell_type": "code",
   "execution_count": 29,
   "metadata": {},
   "outputs": [],
   "source": [
    "# drop rows with missing values\n",
    "df_sampled.dropna(inplace=True)"
   ]
  },
  {
   "cell_type": "code",
   "execution_count": 30,
   "metadata": {},
   "outputs": [
    {
     "data": {
      "text/plain": [
       "image_path             0\n",
       "label                  0\n",
       "id                     0\n",
       "news_url               0\n",
       "title                  0\n",
       "tweet_ids              0\n",
       "misinformation_type    0\n",
       "dtype: int64"
      ]
     },
     "execution_count": 30,
     "metadata": {},
     "output_type": "execute_result"
    }
   ],
   "source": [
    "df_sampled.isnull().sum()"
   ]
  },
  {
   "cell_type": "code",
   "execution_count": 31,
   "metadata": {},
   "outputs": [
    {
     "data": {
      "text/plain": [
       "(471042, 7)"
      ]
     },
     "execution_count": 31,
     "metadata": {},
     "output_type": "execute_result"
    }
   ],
   "source": [
    "df_sampled.shape"
   ]
  },
  {
   "cell_type": "markdown",
   "metadata": {},
   "source": [
    "# EDA\n",
    "## Root Cause Analysis for Misinformation\n",
    "\n",
    "Root Cause Analysis (RCA) helps identify why misinformation is created. Here’s how you can approach it:\n",
    "\n",
    "**Step 1: Categorize Misinformation**\n",
    "- Your dataset already has a 'misinformation_type' column.\n",
    "\n",
    "- Count occurrences of each type:\n"
   ]
  },
  {
   "cell_type": "code",
   "execution_count": 32,
   "metadata": {},
   "outputs": [
    {
     "data": {
      "text/plain": [
       "misinformation_type\n",
       "gossipcop     454400\n",
       "politifact     16642\n",
       "Name: count, dtype: int64"
      ]
     },
     "execution_count": 32,
     "metadata": {},
     "output_type": "execute_result"
    }
   ],
   "source": [
    "df_sampled['misinformation_type'].value_counts()\n"
   ]
  },
  {
   "cell_type": "markdown",
   "metadata": {},
   "source": [
    "The most common misinformation type is gossipcop with 454,400 rows."
   ]
  },
  {
   "cell_type": "markdown",
   "metadata": {},
   "source": [
    "**Step 2: Analyze the Sources of Misinformation**\n",
    "- Check which news URLs appear most often:"
   ]
  },
  {
   "cell_type": "code",
   "execution_count": 33,
   "metadata": {},
   "outputs": [
    {
     "data": {
      "text/plain": [
       "news_url\n",
       "https://www.thewrap.com/this-is-us-everything-we-know-her-rebecca-future-randall-tess-beth-mother/                                     203\n",
       "https://en.wikipedia.org/wiki/Wedding_of_Prince_Harry_and_Meghan_Markle                                                                185\n",
       "https://www.usatoday.com/story/life/entertainthis/2018/02/06/kylie-jenner-named-her-baby-stormi-and-twitter-freaking-out/312861002/    179\n",
       "https://en.wikipedia.org/wiki/Travis_Scott                                                                                             178\n",
       "https://people.com/tv/why-nikki-bella-hid-her-first-marriage-from-john-cena-and-how-he-reacted-when-he-found-out/                      175\n",
       "https://www.bbc.com/news/entertainment-arts-41594672                                                                                   159\n",
       "https://en.wikipedia.org/wiki/2018_MTV_Movie_%26_TV_Awards                                                                             154\n",
       "www.newidea.com.au/jennifer-aniston-and-brad-pitt-busted-in-aspen                                                                      150\n",
       "https://www.forbes.com/sites/insertcoin/2018/06/06/despite-season-2-issues-netflix-greenlights-13-reasons-why-season-3/                143\n",
       "https://www.pressparty.com/pg/newsdesk/administrator/view/177813/                                                                      139\n",
       "Name: count, dtype: int64"
      ]
     },
     "execution_count": 33,
     "metadata": {},
     "output_type": "execute_result"
    }
   ],
   "source": [
    "df_sampled['news_url'].value_counts().head(10)"
   ]
  },
  {
   "cell_type": "markdown",
   "metadata": {},
   "source": [
    "\n",
    "All of these websites are celebrity gossip websites"
   ]
  },
  {
   "cell_type": "markdown",
   "metadata": {},
   "source": [
    "**Step 3: Keyword Analysis in Titles**\n",
    "\n",
    "- Extract the most frequent words in misinformation titles.\n",
    "- Removes stopwords using nltk.stopwords.words('english').\n",
    "- Removes additional common words that might not add value.\n",
    "- Finds the most frequent words while filtering out stopwords.\n"
   ]
  },
  {
   "cell_type": "code",
   "execution_count": 34,
   "metadata": {},
   "outputs": [
    {
     "name": "stderr",
     "output_type": "stream",
     "text": [
      "[nltk_data] Downloading package stopwords to /Users/user/nltk_data...\n",
      "[nltk_data]   Package stopwords is already up-to-date!\n"
     ]
    },
    {
     "name": "stdout",
     "output_type": "stream",
     "text": [
      "                                                      title  \\\n",
      "3201869   Timberland boots becoming trendy with Gigi Had...   \n",
      "8662448   Fans Accuse Jay-Z and Beyoncé of Copying Kim K...   \n",
      "6253700   'WAGS LA' And 'WAGS Miami' Both Officially Can...   \n",
      "9737150   Who Is Hassan Jameel? Rihanna's Mystery Man Is...   \n",
      "22131755  Who Benefits from President Trump’s Child Care...   \n",
      "\n",
      "                       frequent_words  \n",
      "3201869   timberland, boots, becoming  \n",
      "8662448             fans, accuse, jay  \n",
      "6253700               wags, la, miami  \n",
      "9737150       mystery, hassan, jameel  \n",
      "22131755   benefits, president, trump  \n"
     ]
    }
   ],
   "source": [
    "from collections import Counter\n",
    "import re\n",
    "import nltk\n",
    "from nltk.corpus import stopwords\n",
    "\n",
    "# Download stopwords if not already available\n",
    "nltk.download('stopwords')\n",
    "\n",
    "# Load English stopwords\n",
    "stop_words = set(stopwords.words('english'))\n",
    "\n",
    "# Define additional common words to remove (optional)\n",
    "common_words = {\"news\", \"video\", \"report\", \"click\", \"link\", \"new\", \"breaking\"}\n",
    "\n",
    "# Function to extract most frequent words from a title\n",
    "def extract_frequent_words(title, top_n=3):\n",
    "    if pd.isna(title):\n",
    "        return \"\"\n",
    "    \n",
    "    words = re.findall(r'\\b\\w+\\b', title.lower())  # Tokenize words\n",
    "    filtered_words = [word for word in words if word not in stop_words and word not in common_words]  # Remove stopwords\n",
    "    word_counts = Counter(filtered_words)  # Count word frequencies\n",
    "    most_common_words = [word for word, _ in word_counts.most_common(top_n)]  # Get top N frequent words\n",
    "    \n",
    "    return ', '.join(most_common_words)  # Convert list to a string\n",
    "\n",
    "# Apply function to each row and create a new column\n",
    "df_sampled['frequent_words'] = df_sampled['title'].apply(extract_frequent_words)\n",
    "\n",
    "# Display the first few rows\n",
    "print(df_sampled[['title', 'frequent_words']].head())\n"
   ]
  },
  {
   "cell_type": "markdown",
   "metadata": {},
   "source": [
    "**Step 4: Compare Fake vs. Real News Patterns**\n",
    "\n",
    "- Analyze differences in word usage between real and fake news:"
   ]
  },
  {
   "cell_type": "code",
   "execution_count": 35,
   "metadata": {},
   "outputs": [
    {
     "name": "stdout",
     "output_type": "stream",
     "text": [
      "Top Fake News Words: [('jennifer', 6884), ('kardashian', 6465), ('brad', 5542), ('jenner', 5315), ('pitt', 4559), ('kim', 4437), ('justin', 4079), ('angelina', 3881), ('selena', 3617), ('jolie', 3013), ('aniston', 2980), ('meghan', 2936), ('gomez', 2678), ('kylie', 2359), ('blake', 2347), ('trump', 2140), ('gwen', 2105), ('kanye', 2017), ('bieber', 1971), ('markle', 1878)]\n",
      "Top Real News Words: [('kardashian', 9277), ('kim', 6081), ('says', 5689), ('prince', 5545), ('star', 5470), ('reveals', 5189), ('2018', 5145), ('jenner', 4873), ('meghan', 4863), ('season', 4815), ('jennifer', 4717), ('watch', 4466), ('kate', 4278), ('best', 3853), ('taylor', 3846), ('bachelor', 3417), ('harry', 3388), ('selena', 3359), ('shares', 3230), ('swift', 3220)]\n"
     ]
    }
   ],
   "source": [
    "fake_titles = df_sampled[df_sampled['label'] == 'fake']['frequent_words'].dropna()\n",
    "real_titles = df_sampled[df_sampled['label'] == 'real']['frequent_words'].dropna()\n",
    "\n",
    "fake_words = ' '.join(fake_titles).lower()\n",
    "real_words = ' '.join(real_titles).lower()\n",
    "\n",
    "fake_word_counts = Counter(re.findall(r'\\b\\w+\\b', fake_words))\n",
    "real_word_counts = Counter(re.findall(r'\\b\\w+\\b', real_words))\n",
    "\n",
    "print(\"Top Fake News Words:\", fake_word_counts.most_common(20))\n",
    "print(\"Top Real News Words:\", real_word_counts.most_common(20))\n"
   ]
  },
  {
   "cell_type": "markdown",
   "metadata": {},
   "source": [
    "**Step 5: Social Media Influence**\n",
    "* Finds misinformation tweets.\n",
    "\n",
    "* Counts how often each tweet ID appears.\n",
    "\n",
    "* Displays the top 10 tweets spreading misinformation.\n",
    "\n"
   ]
  },
  {
   "cell_type": "code",
   "execution_count": 36,
   "metadata": {},
   "outputs": [
    {
     "data": {
      "text/plain": [
       "21310"
      ]
     },
     "execution_count": 36,
     "metadata": {},
     "output_type": "execute_result"
    }
   ],
   "source": [
    "df_sampled['tweet_ids'].nunique()\n"
   ]
  },
  {
   "cell_type": "code",
   "execution_count": 37,
   "metadata": {},
   "outputs": [
    {
     "name": "stdout",
     "output_type": "stream",
     "text": [
      "Top 10 Tweets Spreading the Most Misinformation (Fake News):\n",
      "Tweet ID: 245855269077282817\t251405156552425473\t253244534341898241\t259326121420652545\t260841374696472576\t260841372876165120\t260884603496189954\t260885797434183680\t261503895623315457\t261503899939246080\t261503986518065152\t261505911665864705\t261507545208852480\t261510712571092995\t261511722932768769\t261517416931147776\t261519390103715840\t261642538040037376\t261738071396057089\t261768185039175681\t261890487043100672\t262075386228248577\t262645598963003392\t262965981092134912\t264461413110644736\t264528144927694849\t268885150471954432\t269044189092786176\t270633316493975552\t270633712872476673\t270730856971243520\t276009732630786048\t276788882249486337\t277272378994749440\t281110207386513409\t281627076505792512\t282008076230471680\t282361978213761024\t282742258489503745\t285792120638406657\t292729116669640705\t294633879044759552\t294633884082130944\t294633889643761664\t294774911879237633\t299270877369991168\t300427026022670336\t300982549361090561\t301284437319106560\t302074732914819072\t309277349902422016\t309456971076075520\t313791432043401217\t314716583161376770\t316791887828758528\t316934821081382915\t317077194453176321\t317282827144163328\t317735578315673601\t322807253839273985\t327266526723973121\t327450169169813505\t328478926198415360\t328785874529689601\t328925312719134720\t328999045802631170\t330144291550801920\t330146531346874369\t330186488778194945\t331096468989554689\t331309340885667840\t332346134192324610\t332593548300005377\t333638965594832896\t335808713216638976\t335808711916392450\t335808709701808129\t337193337188663298\t337209824947367936\t338283594525048832\t340588636967956480\t343013248980901888\t343355602992496640\t343469617240477697\t344503734337941505\t346962383916371968\t349723840521318400\t350880870191726593\t353872263214403586\t355538177219510272\t365127398078939137\t366412267505467392\t371876199100059648\t374217900988846080\t376998972994248704\t377499891964338176\t377945840880742400\t383591242518368256\t385352949574426624\t388733030522556416\t390685212365316096\t397976409005506560\t398575156655697920\t403026900697640960\t405821681572143104\t410434767062958082\t410481354178977792\t412916297198866432\t416686884668968960\t421023633218076672\t421251415139684352\t421546709466882048\t421596612209557504\t421596615061684224\t421596613430087680\t421596616923947008\t421982632902422528\t423551180212830208\t423876767326040064\t423881067242606592\t424809210854252544\t424941313956397056\t425018985994670080\t426154001068208128\t427081005166379008\t427104003806085120\t428192831182995456\t428906376518443008\t433436676996616193\t434413694370721792\t438057733359542272\t439000968349642752\t444226250861600768\t444235748053483520\t446644307274260480\t446658440434176002\t446668004739518464\t446677120803037185\t446844861908803584\t446919984422203392\t446926357055172609\t446964241841811456\t447078674311831552\t449384327399632897\t451385100710977536\t453934254238728193\t454982040975192064\t456142127857033216\t459718944346365953\t464004314210390016\t464080371366522880\t464578021622816768\t466002676644192256\t472481982837178368\t478668536899182592\t479284189892997121\t479712629921816576\t481469771482144768\t482203134799130624\t484620919156248576\t489118473784926208\t489171318378487808\t489713207033217024\t489781128551997440\t492313829221871616\t492408574736203776\t494773064542863360\t494780431632306177\t494803160133664768\t494813966791495681\t494834039858028544\t496642358088589312\t496973842011521025\t498119331033939969\t498692853141233664\t499086680813735936\t502387714054844416\t503771191895539712\t505827829351583745\t506470960224940033\t507617971313725440\t509313767772282880\t509809551533932544\t510428335684739072\t510535391028740097\t510676754823135232\t511774030966169600\t512365182656712704\t513406858715881473\t513442378909089792\t515326763048501248\t515366032379506689\t515366040587337728\t515366057536544768\t515366082387800064\t515366088389836800\t515366101480247296\t520286195813609472\t520753902632058880\t522086951365926912\t522086950044729344\t522151911718260737\t522608453248761857\t522801632539860992\t526529345540476928\t526617677796626433\t526805542916734977\t527088380958748674\t528635983634644992\t529171128108208128\t529943941081489408\t530165592477540352\t532999858521505792\t534643278038056960\t534942220416073728\t535787991269404673\t537576874403065858\t537576878215675907\t537994573394354176\t538060513234518016\t538244294671622144\t539152531557842944\t539442981938290688\t540179256538828800\t540619461309370368\t541163904210976768\t545056945896693760\t545057853925777408\t545058244256083968\t545058250195206145\t545061443063001088\t545107502983958528\t545198960529661954\t545544455089319936\t545980534695133185\t546397670802087936\t548440293310492672\t549851362041671680\t550764506452733952\t555834847818969089\t555869642044882946\t556379421696073728\t557587881439821827\t558315199988785152\t558319815664738305\t558319916240355329\t558384139678662656\t558883189360709633\t558883199422832640\t559609892697542656\t560322338017656832\t560477417698263040\t561861915585302529\t561862706672963585\t563774199202709505\t565831019384041472\t566841201588830209\t569533636967428096\t570171199424221184\t570224811881984002\t570247345067167744\t570314973391548418\t570535066276917249\t571180119731015680\t571932584017453056\t572084104520437760\t572835644118061056\t574314975189069824\t574824503060131841\t575741035202101250\t576880886567829504\t577496429624717312\t577700684297981952\t577700682058194944\t577861549005545472\t578276457035616256\t578768135278346241\t579620486411235328\t580015959899017216\t580033233141649408\t580033602588643331\t580124597225267200\t580330748718219264\t580732733460234240\t580796321784836096\t581063286742867969\t581793504088563712\t582346431018598400\t582347586087997440\t582545085075685377\t582618609068855296\t582821039991844864\t582928486274232322\t583240713825071104\t585741446327697408\t585975441149788160\t587188157008846848\t587500301600432128\t587646379557789696\t587926324230012928\t587954988879450113\t588369942476619776\t588460781554925568\t588544380480389120\t590528851702206465\t591660616089108480\t592711533798494208\t594200274614538241\t595638542577094656\t598208009773322243\t598763043116359680\t599383878755745794\t604295481527652352\t608517816476663808\t608517888857780224\t609461222342144000\t609471143871954944\t611778140118106112\t613031898344886273\t613374946614620160\t615453791857582080\t615934310248513537\t615987022373761028\t616060042027081728\t617483825187196929\t617483831197745152\t617483956318027776\t619565123640782849\t619566664347222017\t620460435007901696\t620460591505874944\t621352193170354176\t622033983841304577\t626177976430891009\t626226971912105984\t626398173658001408\t627547795847778304\t628364080210784256\t628688033538289664\t628879936665853952\t630032911593537536\t630467370641948672\t631026105420525568\t631760522463997952\t631760611609845760\t632869055636963328\t633564152783630336\t633567228064104448\t634020213097431040\t635113159460790272\t636581939684638720\t636581984353980417\t637100301187616768\t637574139948216320\t637662502587727872\t638734091270098944\t638739500101832704\t639091833801416705\t639526119167893504\t640167009053839360\t640194316565016576\t640929195812524032\t640929195086864384\t641727050978455553\t641968133989756928\t645057228718870528\t646294447890632706\t647422423571263488\t647422483243630592\t649218541292535808\t649810128112193536\t652435929374814208\t654832479778545664\t657163681482977281\t658695093235257344\t660143513837924352\t662261251834155013\t662274677809655808\t662274677612539904\t662282618759573504\t663420011868917760\t664083005628162048\t665544593560113152\t665545017063301120\t665545069768798208\t666585011227860992\t667522663766626304\t669500981722406912\t671244306410291201\t671315488748781568\t672530717243547648\t674803144686202882\t679236740939321344\t679318486393327616\t679318482668785664\t679326240113827840\t679338973899137024\t679458544832266240\t679458549043347457\t679459499418193921\t679570181689966592\t679594940314312704\t679698956704583680\t679919734545055744\t679926704090013696\t679927311400042496\t680676748174864384\t681911289501847554\t682151684307435520\t685087686139330560\t685799260621770752\t687605098244108288\t688329869273513984\t688801518091431936\t689272338815258624\t689986171942871044\t690239971530293252\t690711481445421056\t691420718031093761\t692882962333863936\t694463508449091584\t694684753794977794\t695615598336806912\t695763512715390976\t695874860631719936\t695918640609165312\t695946886868557826\t696083540916748288\t696234999272476672\t696414300538331136\t696770491810336768\t696793899445174277\t696797469909377024\t696812514219151360\t696815049105502210\t697078526428622848\t697241035894759424\t698003727458955265\t700365394226376704\t700372007792308224\t701302240347348993\t701314291928952832\t701342278636412929\t701359941831950337\t701403044085415937\t701426819103383552\t701534289691697152\t701563391580614656\t701578454051893248\t701590321361063936\t701590451019653120\t701630124622413825\t701630417665785856\t701682964845846528\t701828073751240704\t702536778377375745\t703027739779928068\t703746144350896129\t704003062390792194\t704457429849747456\t705904478281670656\t707344136672821250\t708070378615099392\t710872656787193857\t713697350359900160\t714886618964967426\t717350947060637696\t717693122008842240\t717987167037825024\t718866280242102272\t719506094591115264\t719548951603650560\t719549546548867072\t720579110007738369\t720629069935747072\t722195002843996160\t722411711924293632\t724779981847420930\t724952870618017793\t725036091397517312\t725036101178691585\t725036570106036224\t726736636176801792\t726924473899720704\t726932621654020098\t727006222637916160\t727070847106609152\t729790542540886017\t729808030670454784\t730951614840737792\t731244005875404800\t731392858020827136\t732163722379206656\t732346120437829632\t732567478082113537\t733361903653638144\t733515847923195904\t734717394925551620\t735470584365088768\t735772503881093121\t736371045980983296\t739171753516224512\t739355854126886912\t740978693867069441\t740978694705946624\t741012217852776448\t741062424661368832\t741062428473987072\t741427854596964352\t741427863346249728\t741428073971646464\t741485981816086528\t744356458205184000\t745494979405983744\t747482574587572225\t748769484274405376\t752917135396044800\t753285517089705984\t754855760614436865\t756124307437281280\t756549763474923520\t757418472221519873\t757735574237122560\t758792778599968768\t758815589443919881\t758829556132225029\t758891085187780609\t758986440088793088\t758987285681491968\t759937034836250626\t760005677775360000\t760010234370859008\t760880977749180424\t761954678066339841\t765018488448561152\t765965527265185792\t766696218193858561\t768016565858074624\t769030669980794880\t769500226096881669\t769756997751189504\t770315274692157440\t770989357847150593\t771059213275541504\t771667873865437184\t771667871042641920\t775961378163159040\t776206835862769665\t776207070324465664\t776387183972278274\t776479983430578176\t777088333394481152\t777875015215775745\t778272672002236416\t779436291603693568\t783376568466886656\t785834004964577281\t785928702689284096\t787712619721461760\t788034452421246976\t788420802861498369\t788691103306231808\t788751393926635521\t788789071292141568\t792658229436243968\t792999747216871424\t793051943375605761\t793391733774151680\t795542089022849024\t795783557281173504\t796098653886828544\t796291240706703360\t797676285107441667\t797877364667486208\t798174787088633856\t798422942623338496\t798601137154756609\t799198867535384576\t799227863853469696\t799338198711287808\t800793752683974656\t801523383297077252\t803295011689402368\t803521215310786560\t803948723831181313\t804047154478280705\t804327163470155776\t804327723514658816\t804328852747091968\t804336835216502784\t804357585931530240\t804392870845288450\t805333730231513088\t807527265651277824\t807853286946729986\t808871178181885952\t810487308822704128\t811255466764472320\t813057751215644672\t814477555831107584\t815672976330764288\t819886072809353216\t820770267546808321\t821271359678513153\t821734849694339072\t821812275921244160\t821857237689724929\t821980425094569984\t822032720167600128\t822212424300462086\t822220058470584322\t822223129648840704\t822769633438691329\t823233812859588611\t823895395403173890\t823961305820385280\t825925310369587200\t826231767438856192\t826297758973886464\t826325825326870530\t826327518219206656\t826507002436341765\t826670091571961856\t828190969434615808\t828277460345159682\t830481311253012481\t830767728730464257\t831032271490732032\t831113160425930752\t831407665049853955\t832244775516565504\t833020001556770816\t833166810409209856\t833319028324171776\t833352037580550145\t833923812303392768\t834595164282843137\t835983165240061955\t836966586854555648\t837532151310475266\t838483058928005120\t838637190301253632\t838699410620047360\t838964765615509504\t839113432850812928\t840830718150348801\t841639639261700096\t842254233097375744\t842622674929156096\t845003417445695490\t845006044250230785\t847048066918203397\t848259195900051456\t848356870469365761\t849205229606363137\t849338345364885504\t849398955356147713\t849987150800138240\t851461583595335680\t852373792731144193\t852429417796308992\t852552369451696128\t852646671435563008\t855080111015645185\t855504500282576897\t855894002406760448\t856594921515618304\t858470500519088128\t859112467930136576\t860112825745887232\t860115840427012098\t860120316412080129\t860136392092995584\t860163778478002176\t860904045770362882\t860904874103508993\t860992794642481152\t860995619908980738\t860996939881603075\t861035088703770624\t861211361543585793\t864344866226003968\t865975620240642049\t869831761143910401\t870667175723495424\t870687183182548993\t870991560644722689\t872025059367497728\t872050599122087936\t873286895794401280\t874626854422028288\t874786361718562817\t874903657979969536\t876135307753684992\t876191848401862661\t876698222173052928\t876751558691762176\t876903081706782720\t878185563404156928\t879767933488070657\t882263677667344384\t883227253164969984\t886052746285129728\t887067166629122049\t887297178900627456\t888286005635055616\t888916772811919360\t890664513682391040\t890674595321192448\t890792577074577408\t891017474765971456\t893033246795210752\t899230434692800512\t900939076097851394\t902069007502770176\t902872552065966081\t905815174573154305\t905820357336199170\t905820568519364608\t905820758135492609\t907526799416086539\t908373152987836416\t908374583614599168\t908387061119496192\t908494420047253506\t909805845965365250\t910008284702285824\t910097304450998274\t910533178208616448\t912003705691570177\t915169737264566272\t916140100056096768\t918472262617100288\t918491465243865095\t919679337913245696\t920361232170962944\t920393663414448128\t927412708433018881\t927583089164926976\t927636299376398342\t928285232226295810\t928989401421615104\t929096247868305409\t929991486090989568\t930070387383263232\t930177434388799488\t930467229094658048\t931013992293728258\t931110785312546818\t931950885684486144\t932013049258450944\t932088404791255040\t933162686346444800\t933382023745433600\t933402977381076992\t934016499076837376\t934842863963332608\t935685026674593797\t935720237714083840\t935848470568669184\t935865623476883456\t935874687116001282\t935891418643607553\t936266627913482240\t940250244855549952\t940520024627994624\t940915148063215616\t940985447186096129\t941361609519140864\t941687462430208000\t941687926622220288\t942723964438237184\t942725932871307265\t942993480342700032\t945599129702498304\t948265116138655745\t948275587059191811\t948943620069044225\t948949811092434944\t949662072488554496\t950045349783244800\t951192432191918085\t951442339091877888\t951863899338563584\t952777438206992384\t953449730771529728\t953653762744348672\t955918813798772736\t956171971003285504\t956183815743000576\t956244380960006144\t957221458564075520\t957319547081707520\t957320095189143552\t957445751646322688\t957863410594734081\t957985478027939846\t958003382286987264\t958003944642564097\t958070130147315713\t959103688072556544\t959173453365395457\t959336228834258944\t960574916985794560\t960909722370142209\t961046641414295553\t961399183667163136\t961725907907043328\t961900258321027072\t961913052852641792\t961978325928435713\t962695491514281985\t963118353777770497\t963190743794819072\t963194853583704065\t963498655742230528\t963530736664969221\t963791041613705217\t964481756450586625\t965093586734931968\t965133806847119360\t965948813935595521\t966033506001399809\t966333067001548800\t966395853182300161\t968198613791846400\t969653022056943616\t969745615587565568\t969746000473743360\t969746241558065153\t969746602360483840\t969746767641219072\t969746969584336896\t971764908999266306\t971859456924504064\t971907257117048834\t972044345414242304\t972202126087806977\t974452416543326209\t974602296377139202\t974730800712290304\t974806573477498895\t975403318347431937\t976035878903730176\t976110055492857857\t976257678119903232\t976286895427629056\t976499290922209281\t976651836286521344\t976865803114090497\t978185583037214720\t978186673011003392\t978344140013436930\t981241864144769025\t981550204653580288\t982615571270381568\t983110530863779840\t983901666520035328\t983972953888083974\t984050644926464001\t984153972029222913\t984468780716908544\t984647488748572672\t985794486235287552\t986153543311810560\t986191307822551040\t986735742637391872\t987682114278690817\t987712625550286849\t987715678974103552\t988084941207605248\t988683405473800192\t988919418242691073\t990517319842582528\t991544973412581378\t991961943790510080\t992375516551368706\t993488953587175426\t993495220368101376\t993499488626110465\t993611360264179712\t994201493363478528\t995798912412733440\t996367537712582657\t996604771652939776\t997124978914062336\t997379020575526912\t997465769847021568\t997669063961739264\t998134339010465792\t998600434087477248\t998619968206917632\t999106567487311872\t999196231216676865\t999230619501477889\t999648448403132416\t1000740079965495296\t1001226989745901575\t1001852127738707968\t1002576004211183617\t1003709470248259585\t1004562157940432898\t1006189317168001024\t1006607468020076545\t1006613810474618880\t1006922048554393600\t1007661514151452672\t1007786676243107840\t1008082020591964161\t1008802232039608320\t1008817496772800513\t1010153315479506946\t1011360391870472193\t1011811692722786304\t1012316281805180929\t1012346369150017536\t1014188121003577346\t1014625902318292997\t1014860000366342144\t1015002025346527232\t1015140650252201985\t1015204671881916416\t1015242887603392512\t1015327038817914882\t1015770798676574208\t1016149302937178112\t1016243058663460864\t1016627495012052993\t1016924431417991168\t1017636606407131137\t1017793047634104321\t1017900278534885377\t1018210211025186816\t1018210276942888960\t1019877350496964608\t1020344681375256576\t1020370262255067136\t1021700125834588160\t1021794880274817025\t1022414944573247493\t1023065587709304832\t1024314878075518977\t1024720237810409472\t1025054561294266368\t1025110012891295744\t1025212099960741888\t1025270385099468800\t1025362872086319105\t1026592630698700800\t1027121357224640512\t1027790525364150272\t1028422510608633857\t1028891780400521216\t1029390302585544704\t1029548276272443393\t1030102733662171136\t1030474931409018880\t1031053167960707072\t1031666059030327297\t1032369378233184256\t1032468470363906048\t1032707817969463298\t1032995205920825344\t1033428469294747653\t1033564772606926854\t1033783574233665536\t1033887478191550464\t1034168918720610305\t1034906304115032065\t1035071753175748609, Count: 130\n",
      "Tweet ID: 950201158445948928\t978452415514136576\t1015659447857885186\t1020177721123536897, Count: 121\n",
      "Tweet ID: 900336607680761857\t900407896072216576\t900412160563707906\t900782033441628160\t900888402719002624\t901127997524201472\t901271276580458496\t901414432869429248\t901472788007059458\t901672107804852224\t901865386861359106\t901867019540168704\t901900341033230336\t901904155102597120\t901906003658248194\t901922833919606784\t902193647839522822\t902577296736964608\t902639613264760832\t902675614989213697\t903251560905547777\t903275410527420416\t903409812297269248\t903650814312542209\t903739225425760257\t903894402552213505\t904047767580008448\t904117918769836034\t904120003531640832\t904184409992994816\t904252624471375872\t904280429833879552\t904423320510181376\t904488845688823808\t904652337813344256\t904757195929255937\t905073477811675137\t905074104616849408\t905076980869210112\t905077166311956480\t905104324023418880\t905329308285194240\t905410759005437952\t905475902578073600\t905555182062370816\t905688707289755649\t905827551305748485\t905895163393961984\t906340276641214464\t906393268916707329\t906487271293059072\t906489437886050304\t906503581192396800\t906548702361346048\t906901386473955332\t906931511731081217\t907177988390825984\t907186596444823553\t907309988057624581\t907654076858597376\t907675135204904960\t907971940182368256\t907978428883914752\t908277005237542912\t908400762421735424\t908570320805576704\t908646407858528257\t908987513536163840\t909000305282560005\t909042465700642817\t909119393350733825\t909412831656857600\t909438864376389632\t909501540632809473\t909655539826663424\t909755479269740545\t909767010648821760\t909781648639631361\t909878698035122176\t909987309508022272\t910078426236645376\t910152225544171520\t910212858880946176\t910280692013191168\t911062374404153344\t911193996365574144\t911262574926290945\t911283671767818240\t911298964506411008\t911303067336892417\t911353965656334336\t911359322445271040\t911477556582350848\t911495195828658176\t911599586506047488\t911614388855017474\t911615217091694592\t911616225251352576\t911625904442494977\t911745292856434688\t911939908138360832\t912031713865240576\t912303723774398464\t912348469116973057\t912372009056849920\t912509641267011585\t912648683358969857\t912714325336449024\t912778253592678402\t912868087002685440\t912953868581031937\t913052690745380869\t913068033203212289\t913212468926795776\t913383407945699330\t913389630724214784\t913406950121050114\t913407579400916992\t913428615789981696\t913455326392836096\t913476890761056256\t913792675677163520\t913866880817000448\t913907913059717120\t914077793595650048\t914444165823557632\t914513120189669377\t914937376547450881\t915014495608729601\t915112794596548608\t915237941684957184\t915598406109810688\t916025035353026565\t916027424630087680\t916087382574845952\t916298797743071234\t916301827112624128\t916302859641204737\t916325400699121664\t916365913137565699\t916668576655986690\t916784561484427264\t917460609058443264\t917504744658219009\t917530732351971328\t917586196104130561\t917793885857959942\t917933420629626880\t918341774929776643\t918569665697337344\t918800636401061888\t918825897922195456\t918863300993064961\t918863512717336576\t918880464995258369\t919215781661106177\t919241114992939009\t919253711112867842\t919404597185191936\t919429633724112896\t919478523802161152\t919562089357815808\t919636135957188609\t919996902812405761\t920209790277734400\t920227140360171520\t920342211585298433\t920836398327795715\t921036155545636865\t921042828557475840\t921401038002905089\t921610683946450944\t921790338188042245\t921883473639591936\t922273209294061569\t922792117881266178\t922838017420746752\t922866229412540422\t922972652163043328\t922994806636335104\t923190751206440961\t923210327210242048\t923609829553377280\t923631271963742209\t923710852741480454\t924473538873921537\t924688219744153600\t924766829297524736\t925281231914393600\t925763922652737536\t925803066498142209\t926046148518957057\t926046154487484416\t926267103216324608\t926413080140988416\t926553055222484993\t926574419262062592\t926602808450744320\t927137148746203136\t927284017342369792\t927284086128947200\t927499881685676032\t927557913283047429\t927723312163237888\t928013849055453184\t928013846882734080\t928062728434012161\t928266411826401281\t928342102194483201\t929215069975494661\t929264141889605633\t929391688732348417\t929416640109973505\t929697362272051200\t929725957539328000\t929885979103645707\t929899672508026880\t930121250856472576\t930308788766126080\t930697772491247616\t930805307189747713\t930846352946417664\t930941098809266176\t930966449828622336\t930971987446517761\t931152025768751109\t931281233769910272\t931377999676624897\t931786408729153536\t931817019338625024\t931943453604315139\t932232507738771457\t932397025852776448\t932574453653008385\t932672183494696967\t932737994813001728\t932883842041556992\t932956106065838080\t933163954938961920\t933164111554265088\t933171283272990720\t933271707904643072\t933395633578397700\t933730064633655296\t933733305035513856\t933943611187589120\t934090060877762561\t934146723924074496\t934345500588945408\t934544616602394624\t934544616149397504\t934661765014671360\t934784594590818304\t934871501869846528\t934971572334424065\t935015415058591744\t935378936225185792\t935863984737185794\t935923586774257672\t936678412776824833\t936685951061028864\t936937094169157637\t937008165979348994\t937387997867249666\t937688163975344130\t938101644050489344\t938127408300986375\t938283690328821760\t938683026539761665\t938720179869143040\t938825477732622336\t939087620453359616\t939588838191718401\t939628666979586050\t939837896638550018\t939995574383804422\t940067487806193664\t940350840044433408\t940414792413712384\t940420737680269316\t940652661074006016\t941013235976802306\t941116734957932544\t941118448339505152\t941130428785856512\t941134890657042432\t942097886778740746\t942352329122238464\t942436380617031680\t942856679183585280\t942915142328520704\t943089755687915520\t943146136050831360\t943150296775233536\t943189415974916097\t943192600072413184\t944188332203896833\t944270775548342272\t944341416158859271\t944581400287735810\t944804642508042241\t944993858059894784\t945325342314631170\t945394365970739201\t945492403934433281\t945595318036520961\t945651605835304960\t946082875706929152\t946422482155851777\t946753461491773441\t946760657034203138\t947807542670954496\t947892280379215873\t948243244227416064\t948287213644722178\t948652158190309376\t949088623424671745\t949372086614740993\t949771164540456960\t949799318973804546\t949974333853757440\t950214480964792320\t950377344119853056\t950397522828128256\t950674537783418880\t950810129112424448\t951019873978679296\t951221307961696265\t951234084029849612\t951706274764283905\t951883615494864897\t951894581678878721\t952026167334359040\t952178925941198849\t952631050999615488\t952720282552283138\t953241885379825664\t953301841823100929\t953366781497757696\t953694303863394304\t954156275981369344\t954238345709867008\t954573848489484288\t954691419393941504\t954769223405928449\t954776375801667585\t954921478033559552\t955138838158077954\t955159358391939079\t955199205630504961\t955231561133281281\t955258757516333057\t955499025993789440\t955584586796412928\t955595574581104640\t955724325201629189\t955872714744586240\t955985638230315008\t956053380413165569\t956138906130333696\t956280077100122112\t956329150813532161\t956636350379380736\t956709316433727488\t956909225560621058\t956909886541099008\t957380329983041537\t957446512442683392\t957570420189868037\t957621071787704320\t957622834494353408\t957658569989677062\t957662548182142979\t957714884468224000\t957808910752272384\t957839098919743488\t957886472706772992\t957890477554053121\t958010748973862912\t958615170644889600\t958696489714413568\t958719593270448128\t958720929185566720\t958800332800262145\t958843217008578560\t959082301375344640\t959083481451192320\t959100667594932225\t959235803124727808\t959248159049441280\t959520084413894656\t959859828528177153\t960113161042096128\t960414222046789632\t960415263932891136\t960525553760653313\t960526764882751489\t960549460253315072\t960551866018009089\t960653942282706944\t960773406567424000\t960789301918339073\t960851779389939712\t960902313933238273\t960988657292398592\t961636650345484288\t961637069146779649\t961873984882012160\t961971247969050624\t962128616401367040\t962339266247327744\t962436900090007552\t962710481881522176\t962842917604769793\t962868400400846848\t963152946413428741\t963249524545290241\t963279564083363840\t963546686432854018\t963629760537661440\t963635494755201024\t963635836934860800\t963713476966445057\t963892743654211588\t964175488443998208\t964561213807054848\t964782994111320065\t964944683561553920\t965012552634781697\t965152012378804224\t965170800281182208\t965313688289849349\t965971442276978689\t965971500229677056\t965999124419096578\t966348688032452608\t966401197321150465\t966408689681911810\t966412380144979969\t966469724212203520\t966506212543090689\t966677519993921536\t966710859241349131\t966750722833428480\t966905778132041729\t967405453205557248\t967406927625015298\t967411338313117699\t967471691185221632\t967543106508861445\t967563172910653442\t967568284785799169\t967642768825896960\t967685799981604864\t967824070489395200\t967825130612248576\t967832126195249152\t968085584915959808\t968160310052843521\t968217732545241088\t968327126977007616\t968616369746055175\t968703190685413376\t968758760763219970\t968976700741742592\t969247555828830208\t969610038489894912\t969936947748753410\t969946390456602624\t970027284299206657\t970156521215709184\t970208861742424064\t970477387426291712\t970551500060545025\t970632666499469312\t970727032228335616\t970848855024652288\t970932105722126336\t971070039184035840\t971129407879426049\t971422592744808449\t971431387726303232\t971476651841327105\t971733366146990080\t971746588191272962\t971784555064635393\t971797017675620353\t971854341870145543\t972027460802945024\t972084462933733376\t972279256356212736\t972459244447522816\t972470428831768577\t972561112825782272\t972749415323750401\t972797365861212160\t972959897846472707\t973267473591099393\t973338743263387648\t973561025931939840\t973966187221716993\t974046319017897984\t974303846351691776\t974307360838684673\t974668574315999232\t974672963151699968\t974735888096915456\t974870078150840320\t974907137469140992\t974928222826659840\t975162000299970560\t975399823334629376\t975400312579219457\t976299496362487812\t976427629279678465\t976428194025918464\t976428787075289088\t976430254691667969\t976521678820986880\t976572988760915968\t976622151901044736\t976622433145847808\t976646785618862082\t976652492024041474\t976970169804259328\t977205638232145920\t977631321320280064\t977647052111872001\t977683623833894912\t977708530701651970\t977786237376520192\t977922694929936384\t977924880359444485\t977982500244021249\t978296411245694977\t978349478771085312\t978353978831499266\t978418233358172160\t978851676458246147\t978855090051321856\t978891764047151104\t979427811671920641\t979455292252590080\t979823201848037377\t980163710785376256\t980241725284323328\t980400074885926919\t980542452787548160\t980629277443059713\t980705229405671424\t980969023558078465\t981267296046977024\t981275179702804481\t981900492577083392\t981900538106216448\t981900887600848897\t981914865668378624\t981993689479294978\t982321156052176898\t982642884905185281\t982642922658107392\t982644027261583360\t982728438451761158\t982728480357076994\t982823735395864577\t982881816997703680\t983090914477461505\t983621936407367680\t983623782572154881\t983719446941458432\t983873488799895552\t983873526393397248\t984088750601928704\t984176098312441856\t984288043258478593\t984515222139437056\t984515255844847616\t984520247548903424\t984766541643251714\t984770235533332481\t984794636827938821\t984893492966182913\t985091083892875265\t985126415405404160\t985128803839217665\t985476596898390017\t985502623896866816\t985531661591957504\t985620705495670785\t985643568609054720\t985896585887395841\t986263433225138176\t986721842219102209\t986741440595324928\t986787736999866368\t986796733140226049\t987443912267763712\t987501611818864640\t987502575204339713\t987516695806914560\t987608344830636033\t987892522369404928\t988015820113678336\t988146323080777728\t988371814178058240\t988511477991690240\t988516970072018945\t988836003333976064\t988843546915540993\t988954478173933569\t988955552620347392\t988972454759620608\t989133092211384320\t989183115724709889\t989183591115644928\t989187906043629568\t989188855982100480\t989252554231091200\t989323018613723137\t989494397334118406\t989509247854698496\t989827723198652416\t989832332352901120\t990200797521760256\t990203630497169408\t990210141197950979\t990215899880873984\t990217357070127104\t990312035052290048\t990435091263447043\t990542891998154753\t990714689993805824\t990983458494255104\t991010571486146560\t991083618066935808\t991085379460780032\t991094434468069377\t991116833435602946\t991126325002895361\t991160954028257291\t991231784485605376\t991325207016103936\t991665138913697794\t991778262102790144\t991778266175496192\t992025830757949440\t992026092826431488\t992033633987899392\t992033818617008128\t992147126741274624\t992424535218704384\t992460140602380289\t992465184676634624\t992493491187003392\t992871842376495105\t992962185910419457\t993182462313467904\t993392808445784064\t993393130354462721\t993393938118701056\t993394158080585728\t993394405125033984\t993511340928045056\t993537009665888256\t993571584534237185\t993571828831571968\t993577049108434944\t993605195857825793\t993816581665935360\t993874070306516992\t994165162864193541\t994227861379743744\t994322387523993601\t994322446923784192\t994322936466112513\t994457869004222464\t994701734504214530\t994764097685262337\t994946422158934016\t995002095479771137\t995477166023376896\t995965870668165120\t996645893360275456\t996788964311760896\t996947159206498309\t996947215011713025\t996986114945748997\t997014544143847425\t997268377470144513\t997303864251572226\t997324642519015424\t997324701130199040\t997371706820964354\t997428800957833216\t998027141206818816\t998027285860044800\t999269936605421569\t999339355163578368\t999375524425322496\t999677790315208713\t999766163465867265\t999810882627686400\t999811149930598401\t1000034078467547138\t1000826182496063488\t1000943643858034689\t1000996532924149760\t1001096993006071808\t1001206898719449090\t1001338528922591232\t1001493558094856192\t1002191867130400774\t1002191916111458304\t1002262118488596485\t1002476615698444288\t1003280587770212352\t1003306459214512128\t1003663163060039680\t1003799966127738880\t1004553680119529472\t1004745143134679046\t1004779937390358530\t1004846862128513024\t1005067695036026882\t1005070837861535744\t1005073343396171777\t1005090905001463808\t1005144140638773248\t1005186444661583877\t1005255742369206275\t1005452101177237506\t1005453470235811841\t1005636960319426561\t1005864592029995009\t1005901124531048449\t1005901149793345537\t1006247342528454656\t1006281314604077058\t1006563173107949569\t1006563451970387970\t1006566704867094528\t1006633577231110145\t1006633579206459392\t1006721718017249281\t1006914236688338944\t1006914460571914240\t1006919365403529217\t1006946887860178945\t1007330464527454208\t1007342053934686208\t1007700494775652352\t1007803846209556481\t1008081930036883456\t1008337504272027650\t1008342538007318528\t1008372359785525250\t1008488174220390401\t1008488202796191744\t1008508449783599104\t1008719740414685184\t1008823002107187205\t1008903530546069504\t1008962732526395394\t1009103568685674496\t1009462275911094272\t1009463191569608707\t1009545323142963201\t1009630758808506369\t1009635781676355590\t1009789435955892231\t1009791670991360000\t1009795724853293056\t1009796625366216705\t1010123241082572800\t1010244758269292545\t1010244794231283714\t1010294006507540480\t1010618405894926336\t1010655332954247169\t1010697856733401091\t1011222227268689920\t1011518712728309760\t1011630700724879360\t1011739783599665153\t1011741942785499137\t1011756140701593601\t1011757096956825600\t1011785081319510017\t1011786029689425920\t1011997733333368837\t1011998638464229376\t1012055382603288576\t1012068197170806786\t1012087071517888515\t1012326244673875969\t1012327040194924554\t1012391673601642496\t1012405358772486144\t1012492840453197824\t1012498882356568065\t1012757337826906112\t1013053032836235265\t1013054073443176448\t1013421462248665095\t1013421508335755264\t1013506265371303936\t1013521580868194305\t1013556989224316928\t1013557023001202692\t1013564948272861184\t1013626190685405184\t1013681999918325760\t1013754532629827584\t1013754564997210113\t1013776302862667777\t1013776432407998464\t1013852806233645056\t1014227173287383041\t1014485599485644807\t1014485631186145281\t1014487288850649089\t1014683024548597760\t1014858586374230018\t1014926378381307905\t1014963444251013122\t1015197794423005184\t1015197829994827777\t1015197995577626624\t1015360118735757313\t1015360157809864705\t1015719488132669440\t1015791370748026880\t1015995676289912832\t1016019459943948290\t1016019492273639424\t1016049823206854658\t1016513485566603264\t1016534734330003456\t1016785880651100160\t1017031126311981057\t1017031159455158274\t1017032609258500096\t1017093158591782912\t1017131795995865088\t1017131832607936518\t1017146770822795264\t1017161493400432642\t1017224020704530433\t1017448246770307072\t1017448890151424001\t1017448929263267841\t1017492597420580865\t1017753399503224833\t1017753442167808000\t1017754878167474179\t1017827747153022977\t1017883878877487104\t1017884875720757248\t1017903539627200512\t1018026339683708928\t1018145969496625157\t1018146002186981382\t1018164355404390400\t1018237742336167937\t1018280983894904832\t1018403347374669824\t1018544513273430016\t1018655302223138817\t1019185352446304256\t1019185391835009025\t1019185801949741056\t1019216782379438081\t1019216823617753089\t1019217321783709696\t1019266728075972608\t1019376200257503234\t1019591118219108352\t1019644719373185025\t1019703735415726080\t1019703768122904577\t1020370202293305344\t1020410809757753344\t1020410850857775105\t1020411215992930304\t1020579940226469893\t1020672085197312001\t1020672782567460864\t1020827469870436355\t1020951287440060417\t1021008048171757573\t1021008775073992705\t1021137727276937216\t1021155805100494848\t1021155839267278849\t1021199924174745600\t1021241336924725249\t1021934340404654080\t1021996019339468801\t1022016580396478464\t1022214815916478465\t1022506674987380738\t1022518548214755328\t1022518597506281472\t1022710210690011136\t1023005538605588480\t1023234041938669569\t1023404465393750016\t1023576223115628544\t1023576231097327617\t1023820987282989056\t1024002883048693765\t1024174135679897603\t1024482727985332227\t1024482764115124225\t1024488110577647616\t1024526800712544256\t1024697456934772737\t1024740141833875456\t1024850872885551105\t1024855184424554496\t1024855234588368896\t1024869013980160005\t1024900036386279424\t1024919551925006336\t1025130306259636231\t1025369287270297601\t1025370018769522688\t1025409556661379072\t1025410309832491008\t1025557972213268480\t1025622308218724353\t1025655482835447808\t1026092805280686081\t1026093773959442432\t1026093834080595968\t1026118630210240512\t1026187279746912256\t1026306800495276032\t1026392558207946752\t1026629383933624320\t1026629433552240653\t1026730993963687936\t1026900942304825346\t1027314905215586304\t1027875676035207168\t1027898454708764672\t1027898718387949570\t1027901067739181056\t1027958966918307840\t1028029508232925185\t1028034565196136454\t1028086831798267906\t1028356469740253185\t1028386466257362947\t1028585166971826176\t1028591972242599936\t1028616712290217985\t1028719399807721472\t1028719449057189889\t1029049790921891840\t1029097511875735552\t1029207622870872064\t1029207665505914881\t1029284875067699200\t1029290107264819200\t1029445495813562368\t1029817262444826624\t1030474458073587712\t1030516864974315520\t1030923313453903877\t1031744682420658177\t1031907121879605248\t1031926247746625538\t1031927228802719744\t1031927292937887746\t1031960214294212614\t1031996596853121024\t1032033128519426048\t1032423819041009664\t1032423882391732224\t1032585206534950912\t1032608092566048768\t1032647380158562304\t1032661299308716032\t1032685293026062338\t1032935404297773056\t1033003193935056896\t1033460916682076160\t1033471424940392448\t1033507199077810177\t1033697917859717120\t1033699016788402176\t1033699401485742081\t1033707925037043712\t1033764636485738498\t1033803528790323201\t1033831121543462912\t1033986501762109441\t1034076397289975808\t1034076803827036160\t1034083033354096641\t1034093745665232897\t1034215260658388992\t1034258499042201600\t1034446863670423553\t1034531331894591488\t1034836600029700097\t1035178207195086848\t1035239187300184065\t1035348280807501824\t1035586464611016705\t1035716209734504450\t1035784516068159488\t1035784926195527680\t1035921256103792640\t1036259144842588160\t1036274889752276992\t1036275253390061573\t1036276105727094786\t1036619430233550849, Count: 120\n",
      "Tweet ID: 1034116924148539396\t1034137029423124480\t1034250747217567745, Count: 117\n",
      "Tweet ID: 940657443079643136\t940658560471654400\t940659416801693697, Count: 73\n",
      "Tweet ID: 817097718724071424\t817097718682161153\t916682600755945478\t916685710169726976\t916762339826737155\t916762345648607237\t916762345606594560\t916762351239520256\t916767953781248000\t916853422657126402\t916853422250274816\t916853423202435072\t916853423143657472\t941754281954131968\t941754284521046016\t941754291752075264\t941754292960083969\t941754792346611713\t941759730002907137\t941765341419581447\t941772521736720386\t941774771733323776\t941775223258517509\t941789744542945280\t941796107696394240\t941801280288296960\t941941745763446784\t942742873660887041\t943789244149006337\t943923566101360640\t944039847546839040\t944266629042638849\t944527018510733312\t944527039888900098\t944527121829060608\t944527173708320769\t944711699491315712\t944772734214688768\t944800000084717568\t946367182912606208\t998562369423933441, Count: 72\n",
      "Tweet ID: 1012721353273888769\t1012724111343120384\t1012724132490838016\t1013581627757355008\t1014177905428004864, Count: 70\n",
      "Tweet ID: 1019578355593678848\t1019610193070608385\t1019756829524611072, Count: 70\n",
      "Tweet ID: 913088213794861056\t913088286075375616\t913089882653786113\t913094457800757248\t913095413745336320\t913095926759268352\t913096663413268488\t913096861157924869\t913097012572311552\t913097501531676676\t913105740427960320\t913162399594827776\t913241150131200000\t913241688386281473\t913242179170074624\t913242187869167616\t913243989045862400\t913259501670760452\t913261504845271040\t913261844235739137\t913263671677263872\t922596307893702662, Count: 66\n",
      "Tweet ID: 906081398351638528\t906081699548635136\t906086909222555649\t906097006858444800\t906125206481195009\t906126758365323265\t906154779612782592\t906168971388387328\t906169850653003776\t906189570760474626\t906206327315169281\t906211817734553600\t906278317694738433\t906279261031600129\t906284476501639168\t906309062073217030\t906335016208171010\t906368788697948161\t906422848306249729\t906532796893671425, Count: 56\n"
     ]
    }
   ],
   "source": [
    "from collections import Counter\n",
    "\n",
    "# Flatten the tweet_ids column (some tweets may have multiple IDs)\n",
    "all_tweet_ids = df_sampled[df_sampled['label'] == 'fake']['tweet_ids'].dropna().str.split(',')\n",
    "all_tweet_ids = [tweet_id.strip() for sublist in all_tweet_ids for tweet_id in sublist]  # Flatten list\n",
    "\n",
    "# Count occurrences of each tweet ID\n",
    "tweet_counts = Counter(all_tweet_ids)\n",
    "\n",
    "# Get the top 10 tweets that spread the most misinformation\n",
    "top_misinformation_tweets = tweet_counts.most_common(10)\n",
    "\n",
    "# Display results\n",
    "print(\"Top 10 Tweets Spreading the Most Misinformation (Fake News):\")\n",
    "for tweet, count in top_misinformation_tweets:\n",
    "    print(f\"Tweet ID: {tweet}, Count: {count}\")\n"
   ]
  },
  {
   "cell_type": "code",
   "execution_count": 38,
   "metadata": {},
   "outputs": [
    {
     "name": "stdout",
     "output_type": "stream",
     "text": [
      "[('s', 130521), ('the', 127063), ('and', 101926), ('to', 97131), ('of', 65828), ('in', 64660), ('a', 62677), ('on', 53676), ('with', 51898), ('is', 49234), ('for', 48070), ('her', 47741), ('at', 31727), ('after', 28534), ('kardashian', 22482), ('new', 22062), ('about', 21607), ('she', 20908), ('from', 20666), ('his', 18454)]\n"
     ]
    }
   ],
   "source": [
    "from collections import Counter\n",
    "import re\n",
    "\n",
    "# Clean and tokenize titles\n",
    "words = ' '.join(df_sampled['title'].dropna()).lower()\n",
    "words = re.findall(r'\\b\\w+\\b', words)\n",
    "\n",
    "# Get top words\n",
    "word_counts = Counter(words)\n",
    "print(word_counts.most_common(20))  # Top 20 words\n"
   ]
  },
  {
   "cell_type": "markdown",
   "metadata": {},
   "source": [
    "Based on the root cause analysis above we can say that people create deepfakes and spread misinformation to gain attention using celebrity gossip for financial gain."
   ]
  },
  {
   "cell_type": "markdown",
   "metadata": {},
   "source": [
    "## Hypothesis Testing\n",
    "\n",
    "### Explanation of the Statistical Test\n",
    "1. Baseline Data (Before Detection)\n",
    "\n",
    "- Counts the number of fake and real images.\n",
    "\n",
    "- Calculates the proportion of fake images in the dataset.\n",
    "\n",
    "2. Simulated Scenario (After Detection)\n",
    "\n",
    "- Assumes a 50% reduction in fake images (based on hypothesis).\n",
    "\n",
    "- Keeps the number of real images unchanged.\n",
    "\n",
    "3. Two-Sample Proportion Z-Test\n",
    "\n",
    "- Compares fake image proportions before and after detection.\n",
    "\n",
    "- Null Hypothesis (𝐻0​): No difference in fake image proportions.\n",
    "\n",
    "- Alternative Hypothesis (𝐻𝐴): The proportion of fake images decreases significantly.\n",
    "\n",
    "4. Statistical Significance\n",
    "\n",
    "- If p-value < 0.05, we reject 𝐻0 (supporting the hypothesis).\n",
    "\n",
    "- If p-value > 0.05, we fail to reject 𝐻0 (no strong evidence of reduction)."
   ]
  },
  {
   "cell_type": "code",
   "execution_count": 39,
   "metadata": {},
   "outputs": [
    {
     "name": "stdout",
     "output_type": "stream",
     "text": [
      "📌 Fake Images Before Detection: 116342\n",
      "📌 Fake Images After Detection (Simulated): 58171.0\n",
      "📌 Z-Statistic: 125.0190\n",
      "📌 P-Value: 0.0000\n",
      "✅ The reduction in fake images is statistically significant. This supports the hypothesis.\n"
     ]
    }
   ],
   "source": [
    "import pandas as pd\n",
    "import numpy as np\n",
    "from statsmodels.stats.proportion import proportions_ztest\n",
    "\n",
    "# Load dataset (Assume df_sampled is your DataFrame)\n",
    "df = df_sampled.copy()\n",
    "\n",
    "# Count real and fake images before detection\n",
    "fake_count_before = (df['label'] == 'fake').sum()\n",
    "real_count_before = (df['label'] == 'real').sum()\n",
    "total_before = fake_count_before + real_count_before\n",
    "\n",
    "# Simulate the effect of deepfake detection (reduce fake images by 50%)\n",
    "fake_count_after = fake_count_before / 2  # Assume a 50% reduction\n",
    "real_count_after = real_count_before  # Real images remain the same\n",
    "total_after = fake_count_after + real_count_after\n",
    "\n",
    "# Perform a Two-Sample Proportion Z-Test\n",
    "count = np.array([fake_count_before, fake_count_after])  # Fake counts before and after\n",
    "nobs = np.array([total_before, total_after])  # Total images before and after\n",
    "z_stat, p_value = proportions_ztest(count, nobs)\n",
    "\n",
    "# Print results\n",
    "print(f\"📌 Fake Images Before Detection: {fake_count_before}\")\n",
    "print(f\"📌 Fake Images After Detection (Simulated): {fake_count_after}\")\n",
    "print(f\"📌 Z-Statistic: {z_stat:.4f}\")\n",
    "print(f\"📌 P-Value: {p_value:.4f}\")\n",
    "\n",
    "# Interpretation\n",
    "alpha = 0.05  # 5% significance level\n",
    "if p_value < alpha:\n",
    "    print(\"✅ The reduction in fake images is statistically significant. This supports the hypothesis.\")\n",
    "else:\n",
    "    print(\"❌ No significant evidence that deepfake detection reduces fake images.\")\n"
   ]
  }
 ],
 "metadata": {
  "kernelspec": {
   "display_name": "3.11.10",
   "language": "python",
   "name": "python3"
  },
  "language_info": {
   "codemirror_mode": {
    "name": "ipython",
    "version": 3
   },
   "file_extension": ".py",
   "mimetype": "text/x-python",
   "name": "python",
   "nbconvert_exporter": "python",
   "pygments_lexer": "ipython3",
   "version": "3.11.10"
  }
 },
 "nbformat": 4,
 "nbformat_minor": 2
}
